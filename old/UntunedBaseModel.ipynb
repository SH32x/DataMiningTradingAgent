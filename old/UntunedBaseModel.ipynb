{
 "cells": [
  {
   "cell_type": "code",
   "execution_count": null,
   "id": "94e24fb3-eff1-42fe-b2cf-004c91a7a078",
   "metadata": {},
   "outputs": [],
   "source": [
    "# Baseline Model: ARMA model, NVDA spot price, has logarithmic and exponential scale settings."
   ]
  },
  {
   "cell_type": "markdown",
   "id": "ddb58bcd-9682-47c1-9475-9739547e4b76",
   "metadata": {},
   "source": [
    "ARMA model for NVDA spot price:\n",
    "Scrape using Beautiful Soup, display using Pandas"
   ]
  },
  {
   "cell_type": "code",
   "execution_count": 1,
   "id": "b05facea-bb28-4a25-81f9-8f3465c9d029",
   "metadata": {},
   "outputs": [],
   "source": [
    "# Imports\n",
    "# To import, run \"conda install -c conda-forge <package1> <package2>\" in the Anaconda prompt\n",
    "import os\n",
    "import lxml\n",
    "import pandas as pd\n",
    "from bs4 import BeautifulSoup\n",
    "from scipy import stats, signal\n",
    "from scipy.optimize import minimize\n",
    "import yfinance as yf\n",
    "import datetime as dt\n",
    "from datetime import date, datetime, timedelta\n",
    "from functools import reduce\n",
    "import matplotlib.pyplot as plt\n",
    "import numpy as np\n",
    "import quantstats as qs\n",
    "\n",
    "# Magic function to enable matplotlib charting in jupyter notebooks\n",
    "%matplotlib inline"
   ]
  },
  {
   "cell_type": "code",
   "execution_count": 2,
   "id": "4575b22d-aba3-47e5-859b-27100cf35ed4",
   "metadata": {},
   "outputs": [],
   "source": [
    "def base_ar(prices, time, exp_decay=None, log_base=None):\n",
    "    \"\"\"\n",
    "    Custom autoregressive model with settings for exponential weighting and logarithmic scaling\n",
    "    \n",
    "    Parameters:\n",
    "    prices (Series): Historical closing prices\n",
    "    time (int): Number of lags to use in AR model\n",
    "    exp_decay (float or None): Exponential decay factor (0-1), None for no weighting\n",
    "    log_base (float or None): Base of logarithm to use, None for no transformation\n",
    "    \n",
    "    Returns:\n",
    "    tuple: (coefficients, residuals, use_log, log_base)\n",
    "    \"\"\"\n",
    "    # Determine whether to use log transformation\n",
    "    use_log = log_base is not None\n",
    "    \n",
    "    # Apply logarithmic transformation if specified\n",
    "    if use_log:\n",
    "        if log_base == np.e:\n",
    "            transformed_prices = np.log(prices)\n",
    "        else:\n",
    "            transformed_prices = np.log(prices) / np.log(log_base)\n",
    "        print(f\"Applied logarithmic transformation with base {log_base}\")\n",
    "    else:\n",
    "        transformed_prices = prices.copy()\n",
    "    \n",
    "    # Create design matrix and target\n",
    "    X = np.zeros((len(transformed_prices) - time, time + 1))\n",
    "    y = transformed_prices[time:].values\n",
    "    \n",
    "    # Fill in X with lags and constant term\n",
    "    X[:, 0] = 1  # Constant term\n",
    "    for i in range(len(transformed_prices) - time):\n",
    "        X[i, 1:] = transformed_prices[i:i+time].values\n",
    "    \n",
    "    # Determine whether to use exponential weighting\n",
    "    use_exp_weights = exp_decay is not None\n",
    "    \n",
    "    # Apply exponential weighting if specified\n",
    "    weights = np.ones(time + 1)\n",
    "    if use_exp_weights:\n",
    "        # Calculate weights for each lag (more recent = higher weight)\n",
    "        weights[0] = 1  # Don't weight the intercept\n",
    "        for i in range(1, time + 1):\n",
    "            # Weights decrease exponentially as lags increase\n",
    "            # Most recent observation (last lag) has weight 1\n",
    "            weights[i] = exp_decay ** (time - i)\n",
    "        \n",
    "        # Create weighted version of X for fitting\n",
    "        weighted_X = X.copy()\n",
    "        for i in range(1, time + 1):\n",
    "            weighted_X[:, i] = X[:, i] * weights[i]\n",
    "        \n",
    "        print(f\"Applied exponential weighting with decay factor {exp_decay}\")\n",
    "        print(f\"Weight range: {weights[1:].min():.4f} to {weights[1:].max():.4f}\")\n",
    "        \n",
    "        # Use weighted X for fitting\n",
    "        X_for_fitting = weighted_X\n",
    "    else:\n",
    "        X_for_fitting = X\n",
    "    \n",
    "    # Fit AR model using Ordinary Least Squares\n",
    "    coefficients = np.linalg.lstsq(X_for_fitting, y, rcond=None)[0]\n",
    "    \n",
    "    # Calculate fitted values (use original X to get actual fitted values)\n",
    "    fitted = np.dot(X, coefficients)\n",
    "    \n",
    "    # Calculate residuals\n",
    "    residuals = y - fitted\n",
    "    \n",
    "    # Print coefficients\n",
    "    model_type = []\n",
    "    if use_exp_weights:\n",
    "        model_type.append(\"Exponentially Weighted\")\n",
    "    if use_log:\n",
    "        model_type.append(\"Log Scale\")\n",
    "    \n",
    "    model_desc = \" - \".join([\"AR({})\".format(time)] + model_type)\n",
    "    print(f\"{model_desc} Coefficients:\")\n",
    "    print(f\"Intercept: {coefficients[0]:.4f}\")\n",
    "    \n",
    "    for i in range(1, len(coefficients)):\n",
    "        weight_info = f\" (weight: {weights[i]:.4f})\" if use_exp_weights else \"\"\n",
    "        print(f\"Week {i}: {coefficients[i]:.4f}{weight_info}\")\n",
    "    \n",
    "    return coefficients, residuals, use_log, log_base"
   ]
  },
  {
   "cell_type": "code",
   "execution_count": 3,
   "id": "3d880e32-5422-4b9b-879b-f10f88102046",
   "metadata": {},
   "outputs": [],
   "source": [
    "def base_ar_predict(prices, model_results, k=3):\n",
    "    \"\"\"\n",
    "    Predict future values using the base AR model\n",
    "    \n",
    "    Parameters:\n",
    "    prices (Series): Historical closing prices\n",
    "    model_results: Tuple of (coefficients, residuals, use_log, log_base)\n",
    "    k (int): Number of periods to forecast\n",
    "    \n",
    "    Returns:\n",
    "    DataFrame: Predictions with confidence intervals\n",
    "    \"\"\"\n",
    "    coefficients, residuals, use_log, log_base = model_results\n",
    "    \n",
    "    # Apply logarithmic transformation if the model used it\n",
    "    if use_log:\n",
    "        if log_base == np.e:\n",
    "            transformed_prices = np.log(prices)\n",
    "        else:\n",
    "            transformed_prices = np.log(prices) / np.log(log_base)\n",
    "    else:\n",
    "        transformed_prices = prices.copy()\n",
    "    \n",
    "    # Calculate residual standard error for prediction intervals\n",
    "    residual_std = np.std(residuals)\n",
    "    z = 1.96  # 95% confidence interval\n",
    "    \n",
    "    # Get model parameters\n",
    "    lags = len(coefficients) - 1\n",
    "    recent_prices = transformed_prices[-lags:].values\n",
    "    \n",
    "    # Initialize prediction arrays\n",
    "    predictions = []\n",
    "    lower_bounds = []\n",
    "    upper_bounds = []\n",
    "    \n",
    "    # Generate forecasts\n",
    "    for i in range(k):\n",
    "        # Calculate next value\n",
    "        next_price = coefficients[0]  # Intercept\n",
    "        for j in range(lags):\n",
    "            if i + j < lags:\n",
    "                # Using historical data\n",
    "                next_price += coefficients[j+1] * recent_prices[-(lags-j)]\n",
    "            else:\n",
    "                # Using previously predicted values\n",
    "                next_price += coefficients[j+1] * predictions[i+j-lags]\n",
    "        \n",
    "        # Calculate prediction interval\n",
    "        prediction_error = z * residual_std\n",
    "        lower_bound = next_price - prediction_error\n",
    "        upper_bound = next_price + prediction_error\n",
    "        \n",
    "        # Store predictions\n",
    "        predictions.append(next_price)\n",
    "        lower_bounds.append(lower_bound)\n",
    "        upper_bounds.append(upper_bound)\n",
    "    \n",
    "    # Transform predictions back to original scale if logarithmic transformation was used\n",
    "    if use_log:\n",
    "        if log_base == np.e:\n",
    "            predictions = np.exp(predictions)\n",
    "            lower_bounds = np.exp(lower_bounds)\n",
    "            upper_bounds = np.exp(upper_bounds)\n",
    "        else:\n",
    "            predictions = log_base ** np.array(predictions)\n",
    "            lower_bounds = log_base ** np.array(lower_bounds)\n",
    "            upper_bounds = log_base ** np.array(upper_bounds)\n",
    "    \n",
    "    # Create date range for predictions\n",
    "    last_date = prices.index[-1]\n",
    "    pred_dates = pd.date_range(start=last_date + pd.Timedelta(days=0), \n",
    "                              periods=k, \n",
    "                              freq='W-FRI')\n",
    "    \n",
    "    # Create results DataFrame\n",
    "    results = pd.DataFrame({\n",
    "        'Prediction': predictions,\n",
    "        'Lower_Bound': lower_bounds,\n",
    "        'Upper_Bound': upper_bounds\n",
    "    }, index=pred_dates)\n",
    "    \n",
    "    return results"
   ]
  },
  {
   "cell_type": "code",
   "execution_count": 4,
   "id": "d18b5c52-0920-4edf-9d8a-a2de3802b358",
   "metadata": {},
   "outputs": [],
   "source": [
    "nvda = yf.Ticker(\"NVDA\")\n",
    "data = nvda.history(period=\"5y\", interval=\"1wk\")\n",
    "close_prices = data['Close']"
   ]
  },
  {
   "cell_type": "code",
   "execution_count": 5,
   "id": "b93c5ca6-81ae-46ec-b11d-ca2adeba0624",
   "metadata": {},
   "outputs": [
    {
     "name": "stdout",
     "output_type": "stream",
     "text": [
      "\n",
      "1. Autoregression:\n",
      "AR(20) Coefficients:\n",
      "Intercept: 0.5508\n",
      "Week 1: -0.2168\n",
      "Week 2: 0.0184\n",
      "Week 3: 0.3299\n",
      "Week 4: -0.3516\n",
      "Week 5: 0.2201\n",
      "Week 6: -0.0757\n",
      "Week 7: -0.0297\n",
      "Week 8: 0.1005\n",
      "Week 9: -0.1663\n",
      "Week 10: 0.1303\n",
      "Week 11: 0.0746\n",
      "Week 12: 0.1010\n",
      "Week 13: -0.1169\n",
      "Week 14: -0.1581\n",
      "Week 15: 0.1643\n",
      "Week 16: -0.1784\n",
      "Week 17: 0.1818\n",
      "Week 18: 0.0393\n",
      "Week 19: -0.0361\n",
      "Week 20: 0.9562\n",
      "\n",
      " Model Prediction:\n",
      "                           Prediction  Lower_Bound  Upper_Bound\n",
      "2025-03-07 00:00:00-05:00  112.839085   105.220660   120.457511\n",
      "2025-03-14 00:00:00-04:00  112.981644   105.363218   120.600069\n",
      "2025-03-21 00:00:00-04:00  113.553587   105.935162   121.172013\n"
     ]
    }
   ],
   "source": [
    "# Original AR model\n",
    "'''\n",
    "Example calls:\n",
    "c, r, ul, lb = base_ar(close_prices, time=20)\n",
    "c, r, ul, lb = base_ar(close_prices, time=20, log_base=np.e)\n",
    "c, r, ul, lb = base_ar(close_prices, time=20, exp_decay=0.85, log_base=10)\n",
    "'''\n",
    "print(\"\\n1. Autoregression:\")\n",
    "c, r, ul, lb = base_ar(close_prices, time=20)\n",
    "price_pred = base_ar_predict(close_prices, (c, r, ul, lb), k=3)\n",
    "print(\"\\n Model Prediction:\")\n",
    "print(price_pred)"
   ]
  },
  {
   "cell_type": "code",
   "execution_count": 6,
   "id": "4c62a459-92e6-4bc0-ad11-77645be35c5f",
   "metadata": {},
   "outputs": [
    {
     "data": {
      "text/plain": [
       "[<matplotlib.lines.Line2D at 0x1ae8b2d9b80>]"
      ]
     },
     "execution_count": 6,
     "metadata": {},
     "output_type": "execute_result"
    },
    {
     "data": {
      "image/png": "[encoded data removed]",
      "text/plain": [
       "<Figure size 1008x576 with 1 Axes>"
      ]
     },
     "metadata": {},
     "output_type": "display_data"
    }
   ],
   "source": [
    "# Plot historical prices (last year)\n",
    "plt.figure(figsize=(14, 8))\n",
    "plt.plot(close_prices.index[-52:], close_prices.values[-52:], \n",
    "         label='Historical Close Prices', color='blue')"
   ]
  },
  {
   "cell_type": "code",
   "execution_count": 7,
   "id": "547cd93e-8d79-4e5a-ba45-2267708a8795",
   "metadata": {},
   "outputs": [
    {
     "data": {
      "text/plain": [
       "[<matplotlib.lines.Line2D at 0x1ae8f018590>]"
      ]
     },
     "execution_count": 7,
     "metadata": {},
     "output_type": "execute_result"
    },
    {
     "data": {
      "image/png": "[encoded data removed]",
      "text/plain": [
       "<Figure size 1008x576 with 1 Axes>"
      ]
     },
     "metadata": {},
     "output_type": "display_data"
    }
   ],
   "source": [
    "# Plot predicted prices (next k weeks)\n",
    "plt.figure(figsize=(14, 8))\n",
    "plt.plot(price_pred.index, price_pred['Prediction'], 'ro-')"
   ]
  },
  {
   "cell_type": "code",
   "execution_count": null,
   "id": "b012c45a-dbeb-4e1e-b3a5-fb06c4f83925",
   "metadata": {},
   "outputs": [],
   "source": []
  }
 ],
 "metadata": {
  "kernelspec": {
   "display_name": "Python 3 (Spyder)",
   "language": "python3",
   "name": "python3"
  },
  "language_info": {
   "codemirror_mode": {
    "name": "ipython",
    "version": 3
   },
   "file_extension": ".py",
   "mimetype": "text/x-python",
   "name": "python",
   "nbconvert_exporter": "python",
   "pygments_lexer": "ipython3",
   "version": "3.12.9"
  }
 },
 "nbformat": 4,
 "nbformat_minor": 5
}
