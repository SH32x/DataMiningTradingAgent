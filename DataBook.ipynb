{
 "cells": [
  {
   "cell_type": "code",
   "execution_count": null,
   "id": "94e24fb3-eff1-42fe-b2cf-004c91a7a078",
   "metadata": {},
   "outputs": [],
   "source": [
    "# Baseline 1: ARMA model, NVDA spot price\n",
    "# Baseline 2: ARMA model, log scale, NVDA spot price"
   ]
  },
  {
   "cell_type": "markdown",
   "id": "ddb58bcd-9682-47c1-9475-9739547e4b76",
   "metadata": {},
   "source": [
    "ARMA model for NVDA spot price:\n",
    "Scrape using Beautiful Soup, display using Pandas"
   ]
  },
  {
   "cell_type": "code",
   "execution_count": 4,
   "id": "b05facea-bb28-4a25-81f9-8f3465c9d029",
   "metadata": {},
   "outputs": [],
   "source": [
    "# Imports\n",
    "# To import, run \"conda install -c conda-forge <package1> <package2>\" in the Anaconda prompt\n",
    "import os\n",
    "import lxml\n",
    "import pandas as pd\n",
    "from bs4 import BeautifulSoup\n",
    "from scipy import stats, signal\n",
    "from scipy.optimize import minimize\n",
    "import yfinance as yf\n",
    "import datetime as dt\n",
    "from datetime import date, datetime, timedelta\n",
    "from functools import reduce\n",
    "import matplotlib.pyplot as plt\n",
    "import numpy as np\n",
    "import quantstats as qs\n",
    "\n",
    "# Magic function to enable matplotlib charting in jupyter notebooks\n",
    "%matplotlib inline"
   ]
  },
  {
   "cell_type": "code",
   "execution_count": 4,
   "id": "a8c1ece2-0efd-4d7c-b984-289ca66096e0",
   "metadata": {},
   "outputs": [],
   "source": [
    "# Tickers\n",
    "nvda = yf.Ticker(\"NVDA\") \n",
    "qqq = yf.Ticker(\"QQQ\")"
   ]
  },
  {
   "cell_type": "code",
   "execution_count": 49,
   "id": "46272e41-98f6-421f-a7ac-1dd010dac9e5",
   "metadata": {},
   "outputs": [],
   "source": [
    "data = nvda.history(period=\"5y\", interval=\"1wk\")\n",
    "qqq_data = qqq.history(period=\"5y\", interval=\"1wk\")"
   ]
  },
  {
   "cell_type": "code",
   "execution_count": 53,
   "id": "4e35268b-3891-419e-99a9-b164d1abc3c7",
   "metadata": {},
   "outputs": [
    {
     "name": "stdout",
     "output_type": "stream",
     "text": [
      "                               Open      High  ...  Dividends  Stock Splits\n",
      "Date                                           ...                         \n",
      "2020-02-24 00:00:00-05:00  6.524150  6.857503  ...      0.004           0.0\n",
      "2020-03-02 00:00:00-05:00  6.897723  7.096758  ...      0.000           0.0\n",
      "2020-03-09 00:00:00-04:00  5.976035  6.503640  ...      0.000           0.0\n",
      "2020-03-16 00:00:00-04:00  5.291243  5.737390  ...      0.000           0.0\n",
      "2020-03-23 00:00:00-04:00  5.124343  6.554457  ...      0.000           0.0\n",
      "\n",
      "[5 rows x 7 columns]\n"
     ]
    }
   ],
   "source": [
    "print(data.head())"
   ]
  },
  {
   "cell_type": "code",
   "execution_count": 51,
   "id": "a8402ccd-7c31-44fe-bbdd-661052fc21d0",
   "metadata": {},
   "outputs": [],
   "source": [
    "#export\n",
    "csvx = data[['Open', 'High', 'Low', 'Close']].to_csv(\"nvda_weekly_spot.csv\", float_format=\"%.3f\")\n",
    "csvnq = qqq_data[['Open', 'High', 'Low', 'Close']].to_csv(\"qqq_weekly_spot.csv\", float_format=\"%.3f\")"
   ]
  },
  {
   "cell_type": "code",
   "execution_count": 52,
   "id": "e2f38003-efe5-4b2a-9cb1-87f1bdd2c67f",
   "metadata": {},
   "outputs": [
    {
     "name": "stdout",
     "output_type": "stream",
     "text": [
      "             Open        High  ...   Dividends  Stock Splits\n",
      "count  262.000000  262.000000  ...  262.000000    262.000000\n",
      "mean    42.125947   44.504179  ...    0.000374      0.053435\n",
      "std     41.121486   43.313976  ...    0.001432      0.664514\n",
      "min      5.124343    5.737390  ...    0.000000      0.000000\n",
      "25%     14.171155   14.829985  ...    0.000000      0.000000\n",
      "50%     22.236909   23.060505  ...    0.000000      0.000000\n",
      "75%     48.096403   49.811496  ...    0.000000      0.000000\n",
      "max    148.669750  153.130005  ...    0.010000     10.000000\n",
      "\n",
      "[8 rows x 7 columns]\n"
     ]
    }
   ],
   "source": [
    "print(data.describe())"
   ]
  },
  {
   "cell_type": "code",
   "execution_count": 42,
   "id": "cbf04910-dbac-44c0-8344-55568dd2e49a",
   "metadata": {
    "scrolled": true
   },
   "outputs": [
    {
     "name": "stdout",
     "output_type": "stream",
     "text": [
      "<class 'pandas.core.frame.DataFrame'>\n",
      "DatetimeIndex: 262 entries, 2020-02-24 00:00:00-05:00 to 2025-02-24 00:00:00-05:00\n",
      "Data columns (total 7 columns):\n",
      " #   Column        Non-Null Count  Dtype  \n",
      "---  ------        --------------  -----  \n",
      " 0   Open          262 non-null    float64\n",
      " 1   High          262 non-null    float64\n",
      " 2   Low           262 non-null    float64\n",
      " 3   Close         262 non-null    float64\n",
      " 4   Volume        262 non-null    int64  \n",
      " 5   Dividends     262 non-null    float64\n",
      " 6   Stock Splits  262 non-null    float64\n",
      "dtypes: float64(6), int64(1)\n",
      "memory usage: 16.4 KB\n"
     ]
    },
    {
     "data": {
      "text/plain": [
       "Open            0\n",
       "High            0\n",
       "Low             0\n",
       "Close           0\n",
       "Volume          0\n",
       "Dividends       0\n",
       "Stock Splits    0\n",
       "dtype: int64"
      ]
     },
     "execution_count": 42,
     "metadata": {},
     "output_type": "execute_result"
    }
   ],
   "source": [
    "data.info()\n",
    "data.isnull().sum()"
   ]
  },
  {
   "cell_type": "code",
   "execution_count": 43,
   "id": "7597c28e-28c7-4b97-9964-083308bf6631",
   "metadata": {
    "scrolled": true
   },
   "outputs": [
    {
     "name": "stdout",
     "output_type": "stream",
     "text": [
      "                        Date   Open   High    Low  Close\n",
      "0  2020-02-24 00:00:00-05:00  6.524  6.858  6.020  6.724\n",
      "1  2020-03-02 00:00:00-05:00  6.898  7.097  6.427  6.627\n",
      "2  2020-03-09 00:00:00-04:00  5.976  6.504  5.376  5.999\n",
      "3  2020-03-16 00:00:00-04:00  5.291  5.737  4.501  5.125\n",
      "4  2020-03-23 00:00:00-04:00  5.124  6.554  4.945  6.296\n"
     ]
    }
   ],
   "source": [
    "dfm = pd.read_csv(\"nvda_weekly_spot.csv\")\n",
    "print(dfm.head())"
   ]
  },
  {
   "cell_type": "code",
   "execution_count": 8,
   "id": "b53d5ba2-130e-496a-aa93-8e6ef3f1ad8e",
   "metadata": {},
   "outputs": [],
   "source": [
    "# This class will download daily data from yahoo finance\n",
    "class DailyFinancialData:\n",
    "    \n",
    "    # Class constructor to store parameters, download and format data\n",
    "    def __init__(self, ticker, startDate, endDate):\n",
    "        \n",
    "        # Member Data\n",
    "        self.ticker = ticker\n",
    "        self.startDate = startDate\n",
    "        self.endDate = endDate\n",
    "\n",
    "        # Download and format data\n",
    "        self.download_data()\n",
    "        self.prepare_data()\n",
    "\n",
    "    # Download data from yahoo finance\n",
    "    def download_data(self):\n",
    "        print(f\"Downloading Data from Yahoo Finance for {self.ticker}\")\n",
    "        self.raw_data = yf.download(self.ticker, self.startDate, self.endDate)\n",
    "\n",
    "    # Compute returns and drop NaN values\n",
    "    def prepare_data(self):\n",
    "        \n",
    "        # Grab columns of interest\n",
    "        copy_columns = ['Close']\n",
    "        self.df = self.raw_data[copy_columns].copy()\n",
    "        \n",
    "        # Compute returns and drop NaN values\n",
    "        self.df[\"Returns\"] = np.log(self.df['Close'] / self.df['Close'].shift(1))\n",
    "        self.df.dropna(inplace=True)\n",
    "    \n",
    "    def plot_data(self, cols=None):\n",
    "        if cols is None:\n",
    "            cols = ['Close']\n",
    "        self.df[cols].plot(title=self.ticker)\n",
    "    \n",
    "    def show_data(self):\n",
    "        print(\"\\n*** HEAD ***\")\n",
    "        print(self.df.head())\n",
    "\n",
    "        print(\"\\n*** TAIL ***\")\n",
    "        print(self.df.tail())"
   ]
  },
  {
   "cell_type": "code",
   "execution_count": 9,
   "id": "38876fbe-5610-41cf-b805-520d6df68017",
   "metadata": {},
   "outputs": [],
   "source": [
    "# This class will download tick data from yahoo finance\n",
    "class TickFinancialData:\n",
    "    \n",
    "    # Class constructor to store parameters, download and format data\n",
    "    # Note that period will show the current price (delayed by around 15 mins)\n",
    "    def __init__(self, ticker, period, interval, price_column):\n",
    "        \n",
    "        # Member Data\n",
    "        self.ticker = ticker\n",
    "        self.price_column = price_column\n",
    "        \n",
    "        # The period can be \"1d\", \"5d\", \"1mo\", \"3mo\", \"6mo\", \"1y\", \"2y\", \"5y\", \"10y\", or \"ytd\n",
    "        self.period = period \n",
    "        \n",
    "        # The interval can be \"1m\", \"2m\", \"5m\", \"10m\", \"30m\", \"1h\", \"1d\", \"1wk\", \"1mo\" etc.\n",
    "        self.interval = interval\n",
    "        \n",
    "        # Download and format data\n",
    "        self.download_data()\n",
    "        self.prepare_data()\n",
    "\n",
    "    # Download data from yahoo finance\n",
    "    def download_data(self):\n",
    "        print(f\"Downloading Data from Yahoo Finance for {self.ticker}\")\n",
    "        print(f\"(15m Delayed Data)\")\n",
    "        \n",
    "        instrument = yf.Ticker(self.ticker)\n",
    "        self.raw_data = instrument.history(period=self.period, interval=self.interval)\n",
    "        \n",
    "        print(f\"Last Time Index - {self.raw_data.index[-1]}\")\n",
    "        \n",
    "    # Compute returns and drop NaN values\n",
    "    def prepare_data(self):\n",
    "        \n",
    "        # Grab columns of interest\n",
    "        self.data = self.raw_data[[self.price_column]].copy()\n",
    "        \n",
    "        # Compute returns and drop NaN values\n",
    "        self.data[\"Returns\"] = np.log(self.data[[self.price_column]] / self.data[[self.price_column]].shift(1))\n",
    "        self.data.dropna(inplace=True)\n",
    "        \n",
    "    def plot_data(self, cols=None):\n",
    "        if cols is None:\n",
    "            cols = self.price_column\n",
    "        self.data[cols].plot(title=self.ticker)\n",
    "    \n",
    "    def show_data(self):\n",
    "        print(\"\\n*** HEAD ***\")\n",
    "        print(self.data.head())\n",
    "\n",
    "        print(\"\\n*** TAIL ***\")\n",
    "        print(self.data.tail())"
   ]
  },
  {
   "cell_type": "code",
   "execution_count": 18,
   "id": "283bfe94-fa6c-4935-9c8a-0c2cde4409e6",
   "metadata": {},
   "outputs": [],
   "source": [
    "class FinancialData:\n",
    "    '''\n",
    "    This class handles retrieves financial data from Yahoo Finance.\n",
    "    Works with both daily data and intraday/tick data, and was designed to \n",
    "    get beyond Yahoo's 60-day limit for tick data.\n",
    "    '''\n",
    "    \n",
    "    def __init__(self, ticker, start_date=None, end_date=None, interval=\"1d\", period=None):\n",
    "        '''\n",
    "        \n",
    "        Class parameters:\n",
    "        ticker (str): The stock ticker symbol\n",
    "        start_date (str): Start date in 'YYYY-MM-DD' format\n",
    "        end_date (str): End date in 'YYYY-MM-DD' format\n",
    "        data_type (int): Type of data to retrieve - 0 for daily or 1 for intraday #data_type=0,\n",
    "        interval (str): Data interval - '1d' for daily, or '1m', '2m', '5m', '15m', '30m', '60m', '90m', '1h' for intraday\n",
    "        period (str): Alternative to start_date - e.g., '1d', '5d', '1mo', '3mo', '6mo', '1y', '2y', '5y', '10y', 'ytd', 'max'\n",
    "        '''\n",
    "        \n",
    "        # Member data\n",
    "        self.ticker = ticker\n",
    "        self.start_date = start_date\n",
    "        self.end_date = end_date if end_date else datetime.now().strftime('%Y-%m-%d')\n",
    "        #self.data_type = data_type\n",
    "        self.interval = interval\n",
    "        self.period = period\n",
    "        self.raw_data = None\n",
    "        self.df = None\n",
    "        \n",
    "        # Download and prepare data\n",
    "        self.download_data()\n",
    "        self.prepare_data()\n",
    "    \n",
    "    def download_data(self):\n",
    "        '''\n",
    "        Downloads data from Yahoo Finance based on interval.\n",
    "        '''\n",
    "        print(f\"Downloading {self.interval} interval data for {self.ticker}\")\n",
    "        interval_set = [\"1m\", \"2m\", \"5m\", \"15m\", \"30m\", \"60m\", \"90m\", \"1h\"]\n",
    "        if self.interval == \"1d\":\n",
    "            # Uses yf history() method for daily data\n",
    "            ticker_obj = yf.Ticker(self.ticker)\n",
    "            if self.period:\n",
    "                self.raw_data = ticker_obj.history(period=self.period)\n",
    "            elif self.start_date:\n",
    "                self.raw_data = ticker_obj.history(start=self.start_date, end=self.end_date)\n",
    "            else:\n",
    "                # If no start date or period, get default data (1 month)\n",
    "                self.raw_data = ticker_obj.history(period=\"1mo\")\n",
    "                \n",
    "        elif self.interval in interval_set:\n",
    "            # Uses a custom chunking method for intraday data\n",
    "            # Calculate total duration in days\n",
    "            if self.start_date:\n",
    "                start_date = datetime.strptime(self.start_date, '%Y-%m-%d')\n",
    "                end_date = datetime.strptime(self.end_date, '%Y-%m-%d')\n",
    "                duration_days = (end_date - start_date).days\n",
    "            else:\n",
    "                # Default: get last 59 days\n",
    "                duration_days = 59\n",
    "                end_date = datetime.strptime(self.end_date, '%Y-%m-%d')\n",
    "            \n",
    "            self.raw_data = self._get_extended_intraday_data(end_date, duration_days)\n",
    "        \n",
    "        else:\n",
    "            raise ValueError(\"Incorrect interval\")\n",
    "    \n",
    "    def _get_extended_intraday_data(self, end_date, duration_days):\n",
    "        '''\n",
    "        Retrieve intraday data beyond the 60-day limit using functional programming.\n",
    "        \n",
    "        Parameters:\n",
    "        end_date (datetime): End date for data collection\n",
    "        duration_days (int): Total number of days to retrieve\n",
    "        \n",
    "        Returns:\n",
    "        pandas.DataFrame: Combined historical data\n",
    "        '''\n",
    "        chunk_size = 59  # Maximum days per request\n",
    "        \n",
    "        # Create function to generate a date chunk\n",
    "        def create_date_chunk(offset):\n",
    "            chunk_end = end_date - timedelta(days=offset)\n",
    "            days_remaining = duration_days - offset\n",
    "            chunk_size_adjusted = min(chunk_size, days_remaining)\n",
    "            chunk_start = chunk_end - timedelta(days=chunk_size_adjusted)\n",
    "            return (chunk_start, chunk_end)\n",
    "        \n",
    "        # Map: Create all date chunks\n",
    "        date_chunks = list(map(create_date_chunk, range(0, duration_days, chunk_size)))\n",
    "        \n",
    "        # Function to download data for a chunk\n",
    "        def download_chunk(date_range):\n",
    "            start_date, end_date = date_range\n",
    "            print(f\"Fetching {self.interval} data from {start_date.date()} to {end_date.date()}\")\n",
    "            \n",
    "            df = yf.download(\n",
    "                self.ticker, \n",
    "                start=start_date.strftime('%Y-%m-%d'), \n",
    "                end=end_date.strftime('%Y-%m-%d'), \n",
    "                interval=self.interval\n",
    "            )\n",
    "            \n",
    "            time.sleep(1)  # Avoid rate limiting\n",
    "            return df\n",
    "        \n",
    "        # Map: Apply download function to each chunk\n",
    "        chunk_data = list(map(download_chunk, date_chunks))\n",
    "        \n",
    "        # Filter: Remove empty dataframes\n",
    "        valid_chunks = list(filter(lambda df: not df.empty, chunk_data))\n",
    "        \n",
    "        try:\n",
    "            # Reduce: Combine all dataframes\n",
    "            all_data = reduce(lambda df1, df2: pd.concat([df1, df2]), valid_chunks)\n",
    "            \n",
    "            # Remove any duplicate dates and sort\n",
    "            return all_data[~all_data.index.duplicated(keep='first')].sort_index()\n",
    "        except TypeError:  # If no valid chunks were found\n",
    "            return pd.DataFrame()\n",
    "    \n",
    "    def prepare_data(self):\n",
    "        '''\n",
    "        Prepare data for analysis - compute returns and clean data.\n",
    "        '''\n",
    "        if self.raw_data is None or self.raw_data.empty:\n",
    "            print(\"No data available to prepare.\")\n",
    "            self.df = pd.DataFrame()\n",
    "            return\n",
    "        \n",
    "        # Grab columns of interest\n",
    "        copy_columns = ['Open', 'High', 'Low', 'Close', 'Volume'] \n",
    "        available_columns = [col for col in copy_columns if col in self.raw_data.columns]\n",
    "        \n",
    "        if available_columns:\n",
    "            self.df = self.raw_data[available_columns].copy()\n",
    "            \n",
    "            if 'Close' in self.df.columns:\n",
    "                # Compute returns and drop NaN values\n",
    "                self.df[\"Returns\"] = np.log(self.df['Close'] / self.df['Close'].shift(1))\n",
    "                self.df.dropna(inplace=True)\n",
    "        else:\n",
    "            # Handle case when expected columns are missing\n",
    "            self.df = self.raw_data.copy()\n",
    "    \n",
    "    def plot_data(self, cols=None):\n",
    "        '''\n",
    "        Plot the specified columns of data.\n",
    "        \n",
    "        Parameters:\n",
    "        cols (list): List of column names to plot. Defaults to ['Close'].\n",
    "        '''\n",
    "        if self.df is None or self.df.empty:\n",
    "            print(\"No data available to plot.\")\n",
    "            return\n",
    "        \n",
    "        if cols is None:\n",
    "            cols = ['Close']\n",
    "        \n",
    "        # Make sure all requested columns exist\n",
    "        available_cols = [col for col in cols if col in self.df.columns]\n",
    "        if not available_cols:\n",
    "            print(f\"None of the requested columns {cols} arse available. Available columns are: {self.df.columns.tolist()}\")\n",
    "            return\n",
    "            \n",
    "        self.df[available_cols].plot(title=self.ticker)\n",
    "        plt.show()\n",
    "    \n",
    "    def show_data(self):\n",
    "        \"\"\"\n",
    "        Display the head and tail of the data.\n",
    "        \"\"\"\n",
    "        if self.df is None or self.df.empty:\n",
    "            print(\"No data available to show.\")\n",
    "            return\n",
    "            \n",
    "        print(\"\\n*** HEAD ***\")\n",
    "        print(self.df.head())\n",
    "        print(\"\\n*** TAIL ***\")\n",
    "        print(self.df.tail())\n",
    "    \n",
    "    def get_data(self):\n",
    "        \"\"\"\n",
    "        Return the processed dataframe.\n",
    "        \"\"\"\n",
    "        return self.df"
   ]
  },
  {
   "cell_type": "code",
   "execution_count": 20,
   "id": "6c8b5997-8aa2-4c9c-a5b4-75f5651ebdb4",
   "metadata": {},
   "outputs": [
    {
     "name": "stderr",
     "output_type": "stream",
     "text": [
      "[*********************100%***********************]  1 of 1 completed"
     ]
    },
    {
     "name": "stdout",
     "output_type": "stream",
     "text": [
      "Downloading 30m interval data for NVDA\n",
      "Fetching 30m data from 2025-01-09 to 2025-03-09\n"
     ]
    },
    {
     "name": "stderr",
     "output_type": "stream",
     "text": [
      "\n"
     ]
    },
    {
     "name": "stdout",
     "output_type": "stream",
     "text": [
      "\n",
      "*** HEAD ***\n",
      "Price                            Open        High  ...    Volume   Returns\n",
      "Ticker                           NVDA        NVDA  ...      NVDA          \n",
      "Datetime                                           ...                    \n",
      "2025-01-10 15:00:00+00:00  135.380005  136.169998  ...  22840421  0.005681\n",
      "2025-01-10 15:30:00+00:00  136.158997  137.419998  ...  18951955 -0.003910\n",
      "2025-01-10 16:00:00+00:00  135.610001  135.880005  ...  11283111  0.000000\n",
      "2025-01-10 16:30:00+00:00  135.610001  136.130005  ...  10470696 -0.003990\n",
      "2025-01-10 17:00:00+00:00  135.089996  136.199997  ...   8811796  0.008037\n",
      "\n",
      "[5 rows x 6 columns]\n",
      "\n",
      "*** TAIL ***\n",
      "Price                            Open        High  ...    Volume   Returns\n",
      "Ticker                           NVDA        NVDA  ...      NVDA          \n",
      "Datetime                                           ...                    \n",
      "2025-03-07 18:30:00+00:00  110.529999  111.443604  ...  15864702  0.006864\n",
      "2025-03-07 19:00:00+00:00  111.269997  112.514999  ...  18733291  0.008769\n",
      "2025-03-07 19:30:00+00:00  112.260002  112.610001  ...  15282432 -0.003123\n",
      "2025-03-07 20:00:00+00:00  111.890900  112.919998  ...  17177010  0.006281\n",
      "2025-03-07 20:30:00+00:00  112.599998  113.099998  ...  29030527  0.001109\n",
      "\n",
      "[5 rows x 6 columns]\n"
     ]
    },
    {
     "data": {
      "image/png": "[encoded data removed]",
      "text/plain": [
       "<Figure size 432x288 with 1 Axes>"
      ]
     },
     "metadata": {},
     "output_type": "display_data"
    }
   ],
   "source": [
    "#New FinancialData class example:\n",
    "nvda_data = FinancialData(\"NVDA\", interval=\"30m\", period=\"6mo\")\n",
    "nvda_data.show_data()\n",
    "nvda_data.plot_data(['Close', 'Returns'])"
   ]
  },
  {
   "cell_type": "code",
   "execution_count": 10,
   "id": "71bc51c5-e225-4087-9138-a2afd99fbfd5",
   "metadata": {},
   "outputs": [
    {
     "name": "stderr",
     "output_type": "stream",
     "text": [
      "[*********************100%***********************]  1 of 1 completed"
     ]
    },
    {
     "name": "stdout",
     "output_type": "stream",
     "text": [
      "Downloading Data from Yahoo Finance for NVDA\n",
      "\n",
      "*** HEAD ***\n",
      "Price           Close   Returns\n",
      "Ticker           NVDA          \n",
      "Date                           \n",
      "2023-02-14  22.954304  0.052873\n",
      "2023-02-15  22.747452 -0.009052\n",
      "2023-02-16  21.986008 -0.034047\n",
      "2023-02-17  21.372454 -0.028303\n",
      "2023-02-21  20.639986 -0.034873\n",
      "\n",
      "*** TAIL ***\n",
      "Price            Close   Returns\n",
      "Ticker            NVDA          \n",
      "Date                            \n",
      "2025-03-03  114.059998 -0.090949\n",
      "2025-03-04  115.989998  0.016779\n",
      "2025-03-05  117.300003  0.011231\n",
      "2025-03-06  110.570000 -0.059086\n",
      "2025-03-07  112.690002  0.018992\n"
     ]
    },
    {
     "name": "stderr",
     "output_type": "stream",
     "text": [
      "\n"
     ]
    },
    {
     "data": {
      "image/png": "[encoded data removed]",
      "text/plain": [
       "<Figure size 432x288 with 1 Axes>"
      ]
     },
     "metadata": {},
     "output_type": "display_data"
    }
   ],
   "source": [
    "# Example 1: NVDA\n",
    "# 1. Define ticker\n",
    "ticker = \"NVDA\"\n",
    "\n",
    "# 2. Define backtest period\n",
    "nYears = 3\n",
    "\n",
    "# Sytax for a specific end date\n",
    "# endDate = dt.datetime(2021,6,30).date()\n",
    "\n",
    "endDate = date.today()\n",
    "startDate = endDate - pd.Timedelta(days=nYears * 252)\n",
    "\n",
    "# 3. Load data\n",
    "fd = DailyFinancialData(ticker, startDate, endDate)\n",
    "\n",
    "# 4. Plot data\n",
    "fd.show_data()\n",
    "fd.plot_data()"
   ]
  },
  {
   "cell_type": "code",
   "execution_count": 30,
   "id": "7f67524a-25bb-4e4b-a441-0fe1c50bca4a",
   "metadata": {},
   "outputs": [
    {
     "name": "stdout",
     "output_type": "stream",
     "text": [
      "Downloading Data from Yahoo Finance for NVDA\n",
      "(15m Delayed Data)\n",
      "Last Time Index - 2025-03-07 15:45:00-05:00\n",
      "\n",
      "*** HEAD ***\n",
      "                                Close   Returns\n",
      "Datetime                                       \n",
      "2024-12-09 09:45:00-05:00  139.669998  0.004568\n",
      "2024-12-09 10:00:00-05:00  138.945007 -0.005204\n",
      "2024-12-09 10:15:00-05:00  138.660004 -0.002053\n",
      "2024-12-09 10:30:00-05:00  138.350006 -0.002238\n",
      "2024-12-09 10:45:00-05:00  137.830002 -0.003766\n",
      "\n",
      "*** TAIL ***\n",
      "                                Close   Returns\n",
      "Datetime                                       \n",
      "2025-03-07 14:45:00-05:00  111.900002  0.002909\n",
      "2025-03-07 15:00:00-05:00  112.448898  0.004893\n",
      "2025-03-07 15:15:00-05:00  112.605003  0.001387\n",
      "2025-03-07 15:30:00-05:00  111.934998 -0.005968\n",
      "2025-03-07 15:45:00-05:00  112.730003  0.007077\n"
     ]
    },
    {
     "data": {
      "image/png": "[encoded data removed]",
      "text/plain": [
       "<Figure size 432x288 with 1 Axes>"
      ]
     },
     "metadata": {},
     "output_type": "display_data"
    }
   ],
   "source": [
    "# Tick data: NVDA\n",
    "# Set Ticker, Data Period and Time Interval\n",
    "# Note: All tick data is delayed by 15 minutes.\n",
    "ticker = \"NVDA\"\n",
    "period = \"60d\"    # The period can be between 1 and 60 days\n",
    "interval = \"15m\"  # Working intervals: 5m, 15m, 30m, 1h, 90m\n",
    "price_column = \"Close\"\n",
    "# Download and Format Financial Data\n",
    "fd = TickFinancialData(ticker, period, interval, price_column)\n",
    "\n",
    "# Show Data\n",
    "fd.show_data()\n",
    "fd.plot_data()"
   ]
  },
  {
   "cell_type": "code",
   "execution_count": 8,
   "id": "948883ee-4244-4137-a9cc-cf26a6d3ccaa",
   "metadata": {},
   "outputs": [
    {
     "name": "stderr",
     "output_type": "stream",
     "text": [
      "[*********************100%***********************]  1 of 1 completed"
     ]
    },
    {
     "name": "stdout",
     "output_type": "stream",
     "text": [
      "Downloading Data from Yahoo Finance for DX-Y.NYB\n"
     ]
    },
    {
     "name": "stderr",
     "output_type": "stream",
     "text": [
      "\n"
     ]
    },
    {
     "data": {
      "image/png": "[encoded data removed]",
      "text/plain": [
       "<Figure size 432x288 with 1 Axes>"
      ]
     },
     "metadata": {},
     "output_type": "display_data"
    }
   ],
   "source": [
    "# Example 2: DXY\n",
    "# 1. Define ticker\n",
    "ticker = \"DX-Y.NYB\"\n",
    "\n",
    "# 2. Define backtest period\n",
    "nYears = 3\n",
    "\n",
    "# Sytax for a specific end date\n",
    "# endDate = dt.datetime(2021,6,30).date()\n",
    "\n",
    "endDate = date.today()\n",
    "startDate = endDate - pd.Timedelta(days=nYears * 252)\n",
    "\n",
    "# 3. Load data\n",
    "fd = DailyFinancialData(ticker, startDate, endDate)\n",
    "\n",
    "# 4. Plot data\n",
    "fd.plot_data()"
   ]
  }
 ],
 "metadata": {
  "kernelspec": {
   "display_name": "Python 3 (Spyder)",
   "language": "python3",
   "name": "python3"
  },
  "language_info": {
   "codemirror_mode": {
    "name": "ipython",
    "version": 3
   },
   "file_extension": ".py",
   "mimetype": "text/x-python",
   "name": "python",
   "nbconvert_exporter": "python",
   "pygments_lexer": "ipython3",
   "version": "3.12.9"
  }
 },
 "nbformat": 4,
 "nbformat_minor": 5
}
