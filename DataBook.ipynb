{
 "cells": [
  {
   "cell_type": "code",
   "execution_count": null,
   "id": "94e24fb3-eff1-42fe-b2cf-004c91a7a078",
   "metadata": {},
   "outputs": [],
   "source": [
    "# Baseline 1: ARMA model, NVDA spot price\n",
    "# Baseline 2: ARMA model, log scale, NVDA spot price"
   ]
  },
  {
   "cell_type": "markdown",
   "id": "ddb58bcd-9682-47c1-9475-9739547e4b76",
   "metadata": {},
   "source": [
    "ARMA model for NVDA spot price:\n",
    "Scrape using Beautiful Soup, display using Pandas"
   ]
  },
  {
   "cell_type": "code",
   "execution_count": 1,
   "id": "b05facea-bb28-4a25-81f9-8f3465c9d029",
   "metadata": {},
   "outputs": [],
   "source": [
    "# Imports\n",
    "# To import, run \"conda install -c conda-forge <package1> <package2>\" in the Anaconda prompt\n",
    "import os\n",
    "import lxml\n",
    "import pandas as pd\n",
    "from bs4 import BeautifulSoup\n",
    "from scipy import stats, signal\n",
    "from scipy.optimize import minimize\n",
    "import yfinance as yf\n",
    "import datetime as dt\n",
    "from datetime import date\n",
    "import matplotlib.pyplot as plt\n",
    "import numpy as np\n",
    "import quantstats as qs\n",
    "\n",
    "# Magic function to enable matplotlib charting in jupyter notebooks\n",
    "%matplotlib inline"
   ]
  },
  {
   "cell_type": "code",
   "execution_count": 48,
   "id": "a8c1ece2-0efd-4d7c-b984-289ca66096e0",
   "metadata": {},
   "outputs": [],
   "source": [
    "# Tickers\n",
    "nvda = yf.Ticker(\"NVDA\") \n",
    "qqq = yf.Ticker(\"QQQ\")"
   ]
  },
  {
   "cell_type": "code",
   "execution_count": 49,
   "id": "46272e41-98f6-421f-a7ac-1dd010dac9e5",
   "metadata": {},
   "outputs": [],
   "source": [
    "data = nvda.history(period=\"5y\", interval=\"1wk\")\n",
    "qqq_data = qqq.history(period=\"5y\", interval=\"1wk\")"
   ]
  },
  {
   "cell_type": "code",
   "execution_count": 53,
   "id": "4e35268b-3891-419e-99a9-b164d1abc3c7",
   "metadata": {},
   "outputs": [
    {
     "name": "stdout",
     "output_type": "stream",
     "text": [
      "                               Open      High  ...  Dividends  Stock Splits\n",
      "Date                                           ...                         \n",
      "2020-02-24 00:00:00-05:00  6.524150  6.857503  ...      0.004           0.0\n",
      "2020-03-02 00:00:00-05:00  6.897723  7.096758  ...      0.000           0.0\n",
      "2020-03-09 00:00:00-04:00  5.976035  6.503640  ...      0.000           0.0\n",
      "2020-03-16 00:00:00-04:00  5.291243  5.737390  ...      0.000           0.0\n",
      "2020-03-23 00:00:00-04:00  5.124343  6.554457  ...      0.000           0.0\n",
      "\n",
      "[5 rows x 7 columns]\n"
     ]
    }
   ],
   "source": [
    "print(data.head())"
   ]
  },
  {
   "cell_type": "code",
   "execution_count": 51,
   "id": "a8402ccd-7c31-44fe-bbdd-661052fc21d0",
   "metadata": {},
   "outputs": [],
   "source": [
    "#export\n",
    "csvx = data[['Open', 'High', 'Low', 'Close']].to_csv(\"nvda_weekly_spot.csv\", float_format=\"%.3f\")\n",
    "csvnq = qqq_data[['Open', 'High', 'Low', 'Close']].to_csv(\"qqq_weekly_spot.csv\", float_format=\"%.3f\")"
   ]
  },
  {
   "cell_type": "code",
   "execution_count": 52,
   "id": "e2f38003-efe5-4b2a-9cb1-87f1bdd2c67f",
   "metadata": {},
   "outputs": [
    {
     "name": "stdout",
     "output_type": "stream",
     "text": [
      "             Open        High  ...   Dividends  Stock Splits\n",
      "count  262.000000  262.000000  ...  262.000000    262.000000\n",
      "mean    42.125947   44.504179  ...    0.000374      0.053435\n",
      "std     41.121486   43.313976  ...    0.001432      0.664514\n",
      "min      5.124343    5.737390  ...    0.000000      0.000000\n",
      "25%     14.171155   14.829985  ...    0.000000      0.000000\n",
      "50%     22.236909   23.060505  ...    0.000000      0.000000\n",
      "75%     48.096403   49.811496  ...    0.000000      0.000000\n",
      "max    148.669750  153.130005  ...    0.010000     10.000000\n",
      "\n",
      "[8 rows x 7 columns]\n"
     ]
    }
   ],
   "source": [
    "print(data.describe())"
   ]
  },
  {
   "cell_type": "code",
   "execution_count": 42,
   "id": "cbf04910-dbac-44c0-8344-55568dd2e49a",
   "metadata": {
    "scrolled": true
   },
   "outputs": [
    {
     "name": "stdout",
     "output_type": "stream",
     "text": [
      "<class 'pandas.core.frame.DataFrame'>\n",
      "DatetimeIndex: 262 entries, 2020-02-24 00:00:00-05:00 to 2025-02-24 00:00:00-05:00\n",
      "Data columns (total 7 columns):\n",
      " #   Column        Non-Null Count  Dtype  \n",
      "---  ------        --------------  -----  \n",
      " 0   Open          262 non-null    float64\n",
      " 1   High          262 non-null    float64\n",
      " 2   Low           262 non-null    float64\n",
      " 3   Close         262 non-null    float64\n",
      " 4   Volume        262 non-null    int64  \n",
      " 5   Dividends     262 non-null    float64\n",
      " 6   Stock Splits  262 non-null    float64\n",
      "dtypes: float64(6), int64(1)\n",
      "memory usage: 16.4 KB\n"
     ]
    },
    {
     "data": {
      "text/plain": [
       "Open            0\n",
       "High            0\n",
       "Low             0\n",
       "Close           0\n",
       "Volume          0\n",
       "Dividends       0\n",
       "Stock Splits    0\n",
       "dtype: int64"
      ]
     },
     "execution_count": 42,
     "metadata": {},
     "output_type": "execute_result"
    }
   ],
   "source": [
    "data.info()\n",
    "data.isnull().sum()"
   ]
  },
  {
   "cell_type": "code",
   "execution_count": 43,
   "id": "7597c28e-28c7-4b97-9964-083308bf6631",
   "metadata": {
    "scrolled": true
   },
   "outputs": [
    {
     "name": "stdout",
     "output_type": "stream",
     "text": [
      "                        Date   Open   High    Low  Close\n",
      "0  2020-02-24 00:00:00-05:00  6.524  6.858  6.020  6.724\n",
      "1  2020-03-02 00:00:00-05:00  6.898  7.097  6.427  6.627\n",
      "2  2020-03-09 00:00:00-04:00  5.976  6.504  5.376  5.999\n",
      "3  2020-03-16 00:00:00-04:00  5.291  5.737  4.501  5.125\n",
      "4  2020-03-23 00:00:00-04:00  5.124  6.554  4.945  6.296\n"
     ]
    }
   ],
   "source": [
    "dfm = pd.read_csv(\"nvda_weekly_spot.csv\")\n",
    "print(dfm.head())"
   ]
  },
  {
   "cell_type": "code",
   "execution_count": 4,
   "id": "b53d5ba2-130e-496a-aa93-8e6ef3f1ad8e",
   "metadata": {},
   "outputs": [],
   "source": [
    "# This class will download data from yahoo finance\n",
    "class FinancialData:\n",
    "    \n",
    "    # Class constructor to store parameters, download and format data\n",
    "    def __init__(self, ticker, startDate, endDate):\n",
    "        \n",
    "        # Member Data\n",
    "        self.ticker = ticker\n",
    "        self.startDate = startDate\n",
    "        self.endDate = endDate\n",
    "\n",
    "        # Download and Format Data\n",
    "        self.download_data()\n",
    "        self.prepare_data()\n",
    "\n",
    "    # Download data from yahoo finance\n",
    "    def download_data(self):\n",
    "        print(f\"Downloading Data from Yahoo Finance for {self.ticker}\")\n",
    "        self.raw_data = yf.download(self.ticker, self.startDate, self.endDate)\n",
    "\n",
    "    # Compute returns and drop NaN values\n",
    "    def prepare_data(self):\n",
    "        \n",
    "        # Grab columns of interest\n",
    "        copy_columns = ['Close']\n",
    "        self.df = self.raw_data[copy_columns].copy()\n",
    "        \n",
    "        # Compute returns and drop NaN values\n",
    "        self.df[\"Returns\"] = np.log(self.df['Close'] / self.df['Close'].shift(1))\n",
    "        self.df.dropna(inplace=True)\n",
    "    \n",
    "    def plot_data(self, cols=None):\n",
    "        if cols is None:\n",
    "            cols = ['Close']\n",
    "        self.df[cols].plot(title=self.ticker)"
   ]
  },
  {
   "cell_type": "code",
   "execution_count": 5,
   "id": "71bc51c5-e225-4087-9138-a2afd99fbfd5",
   "metadata": {},
   "outputs": [
    {
     "name": "stderr",
     "output_type": "stream",
     "text": [
      "[*********************100%***********************]  1 of 1 completed"
     ]
    },
    {
     "name": "stdout",
     "output_type": "stream",
     "text": [
      "Downloading Data from Yahoo Finance for NVDA\n"
     ]
    },
    {
     "name": "stderr",
     "output_type": "stream",
     "text": [
      "\n"
     ]
    },
    {
     "data": {
      "image/png": "[encoded data removed]",
      "text/plain": [
       "<Figure size 432x288 with 1 Axes>"
      ]
     },
     "metadata": {},
     "output_type": "display_data"
    }
   ],
   "source": [
    "# Example 1: NVDA\n",
    "# 1. Define Ticker\n",
    "ticker = \"NVDA\"\n",
    "\n",
    "# 2. Define Back Test Period\n",
    "nYears = 3\n",
    "\n",
    "# Sytax for a specific end date\n",
    "# endDate = dt.datetime(2021,6,30).date()\n",
    "\n",
    "endDate = date.today()\n",
    "startDate = endDate - pd.Timedelta(days=nYears * 252)\n",
    "\n",
    "# 3. Load Data\n",
    "fd = FinancialData(ticker, startDate, endDate)\n",
    "\n",
    "# 4. Plot Data\n",
    "fd.plot_data()"
   ]
  },
  {
   "cell_type": "code",
   "execution_count": 8,
   "id": "948883ee-4244-4137-a9cc-cf26a6d3ccaa",
   "metadata": {},
   "outputs": [
    {
     "name": "stderr",
     "output_type": "stream",
     "text": [
      "[*********************100%***********************]  1 of 1 completed"
     ]
    },
    {
     "name": "stdout",
     "output_type": "stream",
     "text": [
      "Downloading Data from Yahoo Finance for DX-Y.NYB\n"
     ]
    },
    {
     "name": "stderr",
     "output_type": "stream",
     "text": [
      "\n"
     ]
    },
    {
     "data": {
      "image/png": "[encoded data removed]",
      "text/plain": [
       "<Figure size 432x288 with 1 Axes>"
      ]
     },
     "metadata": {},
     "output_type": "display_data"
    }
   ],
   "source": [
    "# Example 2: DXY\n",
    "# 1. Define Ticker\n",
    "ticker = \"DX-Y.NYB\"\n",
    "\n",
    "# 2. Define Back Test Period\n",
    "nYears = 3\n",
    "\n",
    "# Sytax for a specific end date\n",
    "# endDate = dt.datetime(2021,6,30).date()\n",
    "\n",
    "endDate = date.today()\n",
    "startDate = endDate - pd.Timedelta(days=nYears * 252)\n",
    "\n",
    "# 3. Load Data\n",
    "fd = FinancialData(ticker, startDate, endDate)\n",
    "\n",
    "# 4. Plot Data\n",
    "fd.plot_data()"
   ]
  },
  {
   "cell_type": "code",
   "execution_count": 2,
   "id": "4575b22d-aba3-47e5-859b-27100cf35ed4",
   "metadata": {},
   "outputs": [],
   "source": [
    "def base_ar(price, time):\n",
    "    \n",
    "    X = np.zeros((len(price) - time, time + 1))\n",
    "    y = price[time:].values\n",
    "    \n",
    "    \n",
    "    X[:, 0] = 1  \n",
    "    for i in range(len(price) - time):\n",
    "        X[i, 1:] = price[i:i+time].values\n",
    "    \n",
    "    #Ordinary Least Squares fitting\n",
    "    coefficients = np.linalg.lstsq(X, y, rcond=None)[0]\n",
    "    fitted = np.dot(X, coefficients)\n",
    "    residuals = y - fitted\n",
    "    \n",
    "    print(f\"AR({time}) Coefficients:\")\n",
    "    print(f\"Intercept: {coefficients[0]:.4f}\")\n",
    "    for i in range(1, len(coefficients)):\n",
    "        print(f\"Weeks: {i}: {coefficients[i]:.4f}\")\n",
    "    \n",
    "    return coefficients, residuals"
   ]
  },
  {
   "cell_type": "code",
   "execution_count": 6,
   "id": "3d880e32-5422-4b9b-879b-f10f88102046",
   "metadata": {},
   "outputs": [],
   "source": [
    "def base_ar_predict(prices, coefficients, residuals, k=3):\n",
    "    \n",
    "    residual_std = np.std(residuals)\n",
    "    z = 1.96  #95% CI\n",
    "\n",
    "    lags = len(coefficients) - 1\n",
    "    recent_prices = prices[-lags:].values\n",
    "\n",
    "    predictions = []\n",
    "    lower_bounds = []\n",
    "    upper_bounds = []\n",
    "    \n",
    "    for i in range(k):\n",
    "\n",
    "        next_price = coefficients[0] \n",
    "        for j in range(lags):\n",
    "            if i + j < lags:\n",
    "                next_price += coefficients[j+1] * recent_prices[-(lags-j)]\n",
    "            else:\n",
    "                next_price += coefficients[j+1] * predictions[i+j-lags]\n",
    "        \n",
    "        prediction_error = z * residual_std\n",
    "        lower_bound = next_price - prediction_error\n",
    "        upper_bound = next_price + prediction_error\n",
    "        \n",
    "        predictions.append(next_price)\n",
    "        lower_bounds.append(lower_bound)\n",
    "        upper_bounds.append(upper_bound)\n",
    "    \n",
    "    last_date = prices.index[-1]\n",
    "    pred_dates = pd.date_range(start=last_date + pd.Timedelta(days=7), \n",
    "                               periods=k, \n",
    "                               freq='W-MON')\n",
    "    \n",
    "    \n",
    "    results = pd.DataFrame({\n",
    "        'Prediction': predictions,\n",
    "        'Lower_Bound': lower_bounds,\n",
    "        'Upper_Bound': upper_bounds\n",
    "    }, index=pred_dates)\n",
    "    \n",
    "    return results"
   ]
  },
  {
   "cell_type": "code",
   "execution_count": 10,
   "id": "d18b5c52-0920-4edf-9d8a-a2de3802b358",
   "metadata": {},
   "outputs": [
    {
     "name": "stdout",
     "output_type": "stream",
     "text": [
      "AR(15) Coefficients:\n",
      "Intercept: 0.4432\n",
      "Weeks: 1: -0.0628\n",
      "Weeks: 2: 0.0346\n",
      "Weeks: 3: -0.0077\n",
      "Weeks: 4: -0.0127\n",
      "Weeks: 5: 0.0379\n",
      "Weeks: 6: 0.0419\n",
      "Weeks: 7: 0.1775\n",
      "Weeks: 8: -0.1849\n",
      "Weeks: 9: -0.1433\n",
      "Weeks: 10: 0.1777\n",
      "Weeks: 11: -0.2071\n",
      "Weeks: 12: 0.1740\n",
      "Weeks: 13: 0.0505\n",
      "Weeks: 14: -0.0193\n",
      "Weeks: 15: 0.9437\n",
      "\n",
      "Autoregressive NVDA Price Prediction:\n",
      "                           Prediction  Lower_Bound  Upper_Bound\n",
      "2025-03-10 01:00:00-04:00  117.099066   109.351257   124.846875\n",
      "2025-03-17 01:00:00-04:00  116.909432   109.161624   124.657241\n",
      "2025-03-24 01:00:00-04:00  116.881339   109.133530   124.629148\n"
     ]
    }
   ],
   "source": [
    "nvda = yf.Ticker(\"NVDA\")\n",
    "data = nvda.history(period=\"5y\", interval=\"1wk\")\n",
    "close_prices = data['Close']\n",
    "c, r = base_ar(close_prices, 15)\n",
    "price_pred = base_ar_predict(close_prices, c, r, 3)\n",
    "print(\"\\nAutoregressive NVDA Price Prediction:\")\n",
    "print(price_pred)"
   ]
  },
  {
   "cell_type": "code",
   "execution_count": null,
   "id": "3a6f80dd-f8e5-4f5e-879e-2c2210ba201b",
   "metadata": {},
   "outputs": [],
   "source": []
  }
 ],
 "metadata": {
  "kernelspec": {
   "display_name": "Python 3 (Spyder)",
   "language": "python3",
   "name": "python3"
  },
  "language_info": {
   "codemirror_mode": {
    "name": "ipython",
    "version": 3
   },
   "file_extension": ".py",
   "mimetype": "text/x-python",
   "name": "python",
   "nbconvert_exporter": "python",
   "pygments_lexer": "ipython3",
   "version": "3.12.9"
  }
 },
 "nbformat": 4,
 "nbformat_minor": 5
}
