{
 "cells": [
  {
   "cell_type": "code",
   "execution_count": null,
   "id": "94e24fb3-eff1-42fe-b2cf-004c91a7a078",
   "metadata": {},
   "outputs": [],
   "source": [
    "# Baseline 1: ARMA model, NVDA spot price\n",
    "# Baseline 2: ARMA model, log scale, NVDA spot price"
   ]
  },
  {
   "cell_type": "markdown",
   "id": "ddb58bcd-9682-47c1-9475-9739547e4b76",
   "metadata": {},
   "source": [
    "ARMA model for NVDA spot price:\n",
    "Scrape using Beautiful Soup, display using Pandas"
   ]
  },
  {
   "cell_type": "code",
   "execution_count": 34,
   "id": "b05facea-bb28-4a25-81f9-8f3465c9d029",
   "metadata": {},
   "outputs": [],
   "source": [
    "# Imports\n",
    "# To import, run \"conda install -c conda-forge <package1> <package2>\" in the Anaconda prompt\n",
    "import os\n",
    "import lxml\n",
    "import pandas as pd\n",
    "from bs4 import BeautifulSoup\n",
    "import yfinance as yf\n",
    "import datetime as dt\n",
    "from datetime import date\n",
    "import matplotlib.pyplot as plt\n",
    "import numpy as np\n",
    "import quantstats as qs\n"
   ]
  },
  {
   "cell_type": "code",
   "execution_count": 48,
   "id": "a8c1ece2-0efd-4d7c-b984-289ca66096e0",
   "metadata": {},
   "outputs": [],
   "source": [
    "# Tickers\n",
    "nvda = yf.Ticker(\"NVDA\") \n",
    "qqq = yf.Ticker(\"QQQ\")"
   ]
  },
  {
   "cell_type": "code",
   "execution_count": 49,
   "id": "46272e41-98f6-421f-a7ac-1dd010dac9e5",
   "metadata": {},
   "outputs": [],
   "source": [
    "data = nvda.history(period=\"5y\", interval=\"1wk\")\n",
    "qqq_data = qqq.history(period=\"5y\", interval=\"1wk\")"
   ]
  },
  {
   "cell_type": "code",
   "execution_count": 53,
   "id": "4e35268b-3891-419e-99a9-b164d1abc3c7",
   "metadata": {},
   "outputs": [
    {
     "name": "stdout",
     "output_type": "stream",
     "text": [
      "                               Open      High  ...  Dividends  Stock Splits\n",
      "Date                                           ...                         \n",
      "2020-02-24 00:00:00-05:00  6.524150  6.857503  ...      0.004           0.0\n",
      "2020-03-02 00:00:00-05:00  6.897723  7.096758  ...      0.000           0.0\n",
      "2020-03-09 00:00:00-04:00  5.976035  6.503640  ...      0.000           0.0\n",
      "2020-03-16 00:00:00-04:00  5.291243  5.737390  ...      0.000           0.0\n",
      "2020-03-23 00:00:00-04:00  5.124343  6.554457  ...      0.000           0.0\n",
      "\n",
      "[5 rows x 7 columns]\n"
     ]
    }
   ],
   "source": [
    "print(data.head())"
   ]
  },
  {
   "cell_type": "code",
   "execution_count": 51,
   "id": "a8402ccd-7c31-44fe-bbdd-661052fc21d0",
   "metadata": {},
   "outputs": [],
   "source": [
    "#export\n",
    "csvx = data[['Open', 'High', 'Low', 'Close']].to_csv(\"nvda_weekly_spot.csv\", float_format=\"%.3f\")\n",
    "csvnq = qqq_data[['Open', 'High', 'Low', 'Close']].to_csv(\"qqq_weekly_spot.csv\", float_format=\"%.3f\")"
   ]
  },
  {
   "cell_type": "code",
   "execution_count": 52,
   "id": "e2f38003-efe5-4b2a-9cb1-87f1bdd2c67f",
   "metadata": {},
   "outputs": [
    {
     "name": "stdout",
     "output_type": "stream",
     "text": [
      "             Open        High  ...   Dividends  Stock Splits\n",
      "count  262.000000  262.000000  ...  262.000000    262.000000\n",
      "mean    42.125947   44.504179  ...    0.000374      0.053435\n",
      "std     41.121486   43.313976  ...    0.001432      0.664514\n",
      "min      5.124343    5.737390  ...    0.000000      0.000000\n",
      "25%     14.171155   14.829985  ...    0.000000      0.000000\n",
      "50%     22.236909   23.060505  ...    0.000000      0.000000\n",
      "75%     48.096403   49.811496  ...    0.000000      0.000000\n",
      "max    148.669750  153.130005  ...    0.010000     10.000000\n",
      "\n",
      "[8 rows x 7 columns]\n"
     ]
    }
   ],
   "source": [
    "print(data.describe())"
   ]
  },
  {
   "cell_type": "code",
   "execution_count": 42,
   "id": "cbf04910-dbac-44c0-8344-55568dd2e49a",
   "metadata": {
    "scrolled": true
   },
   "outputs": [
    {
     "name": "stdout",
     "output_type": "stream",
     "text": [
      "<class 'pandas.core.frame.DataFrame'>\n",
      "DatetimeIndex: 262 entries, 2020-02-24 00:00:00-05:00 to 2025-02-24 00:00:00-05:00\n",
      "Data columns (total 7 columns):\n",
      " #   Column        Non-Null Count  Dtype  \n",
      "---  ------        --------------  -----  \n",
      " 0   Open          262 non-null    float64\n",
      " 1   High          262 non-null    float64\n",
      " 2   Low           262 non-null    float64\n",
      " 3   Close         262 non-null    float64\n",
      " 4   Volume        262 non-null    int64  \n",
      " 5   Dividends     262 non-null    float64\n",
      " 6   Stock Splits  262 non-null    float64\n",
      "dtypes: float64(6), int64(1)\n",
      "memory usage: 16.4 KB\n"
     ]
    },
    {
     "data": {
      "text/plain": [
       "Open            0\n",
       "High            0\n",
       "Low             0\n",
       "Close           0\n",
       "Volume          0\n",
       "Dividends       0\n",
       "Stock Splits    0\n",
       "dtype: int64"
      ]
     },
     "execution_count": 42,
     "metadata": {},
     "output_type": "execute_result"
    }
   ],
   "source": [
    "data.info()\n",
    "data.isnull().sum()"
   ]
  },
  {
   "cell_type": "code",
   "execution_count": 43,
   "id": "7597c28e-28c7-4b97-9964-083308bf6631",
   "metadata": {
    "scrolled": true
   },
   "outputs": [
    {
     "name": "stdout",
     "output_type": "stream",
     "text": [
      "                        Date   Open   High    Low  Close\n",
      "0  2020-02-24 00:00:00-05:00  6.524  6.858  6.020  6.724\n",
      "1  2020-03-02 00:00:00-05:00  6.898  7.097  6.427  6.627\n",
      "2  2020-03-09 00:00:00-04:00  5.976  6.504  5.376  5.999\n",
      "3  2020-03-16 00:00:00-04:00  5.291  5.737  4.501  5.125\n",
      "4  2020-03-23 00:00:00-04:00  5.124  6.554  4.945  6.296\n"
     ]
    }
   ],
   "source": [
    "dfm = pd.read_csv(\"nvda_weekly_spot.csv\")\n",
    "print(dfm.head())"
   ]
  }
 ],
 "metadata": {
  "kernelspec": {
   "display_name": "Python 3 (Spyder)",
   "language": "python3",
   "name": "python3"
  },
  "language_info": {
   "codemirror_mode": {
    "name": "ipython",
    "version": 3
   },
   "file_extension": ".py",
   "mimetype": "text/x-python",
   "name": "python",
   "nbconvert_exporter": "python",
   "pygments_lexer": "ipython3",
   "version": "3.12.9"
  }
 },
 "nbformat": 4,
 "nbformat_minor": 5
}
