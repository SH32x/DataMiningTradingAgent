{
 "cells": [
  {
   "cell_type": "markdown",
   "id": "c0fd19e3-17f1-41be-84fa-74a4c8e7be41",
   "metadata": {},
   "source": [
    "This notebook covers data extraction for the dataset used to train the CELFANN model in the research paper \"A hybrid stock trading framework integrating technical analysis with machine learning\" (Dash & Dash, 2016)"
   ]
  },
  {
   "cell_type": "markdown",
   "id": "e2776a6c-9222-4a8b-b6d1-6092fed734e6",
   "metadata": {},
   "source": [
    "This notebook extracts financial data used to train our implementation of the CEFLANN model from \"A hybrid stock trading framework integrating technical analysis with machine learning\" (Dash & Dash, 2016)"
   ]
  },
  {
   "cell_type": "code",
   "execution_count": 1,
   "id": "7fbe45cf-8ac2-4988-8442-6b5323758774",
   "metadata": {},
   "outputs": [],
   "source": [
    "# Import necessary libraries\n",
    "import pandas as pd\n",
    "import numpy as np\n",
    "import yfinance as yf\n",
    "import matplotlib.pyplot as plt\n",
    "import matplotlib.dates as mdates\n",
    "import seaborn as sns\n",
    "from datetime import datetime\n",
    "plt.style.use('seaborn-v0_8-darkgrid')"
   ]
  },
  {
   "cell_type": "code",
   "execution_count": 2,
   "id": "c9072bad-d385-4c21-b5f4-4b3f4db7934f",
   "metadata": {},
   "outputs": [],
   "source": [
    "# Set data parameters\n",
    "start_date = '2020-01-01'\n",
    "end_date = '2025-03-14'  \n",
    "tickers = {\n",
    "    'NVIDIA': 'NVDA',\n",
    "    'Taiwan Semiconductors': 'TSM',\n",
    "    'Invesco QQQ': 'QQQ'\n",
    "}"
   ]
  },
  {
   "cell_type": "code",
   "execution_count": 3,
   "id": "de6f39b8-ded2-4635-9822-7568636e130f",
   "metadata": {},
   "outputs": [
    {
     "name": "stdout",
     "output_type": "stream",
     "text": [
      "Downloading data for NVIDIA (NVDA)...\n",
      "YF.download() has changed argument auto_adjust default to True\n"
     ]
    },
    {
     "name": "stderr",
     "output_type": "stream",
     "text": [
      "[*********************100%***********************]  1 of 1 completed\n",
      "[*********************100%***********************]  1 of 1 completed"
     ]
    },
    {
     "name": "stdout",
     "output_type": "stream",
     "text": [
      "Downloaded 1306 days of data for NVIDIA.\n",
      "Downloading data for Taiwan Semiconductors (TSM)...\n"
     ]
    },
    {
     "name": "stderr",
     "output_type": "stream",
     "text": [
      "\n",
      "[*********************100%***********************]  1 of 1 completed"
     ]
    },
    {
     "name": "stdout",
     "output_type": "stream",
     "text": [
      "Downloaded 1306 days of data for Taiwan Semiconductors.\n",
      "Downloading data for Invesco QQQ (QQQ)...\n",
      "Downloaded 1306 days of data for Invesco QQQ.\n"
     ]
    },
    {
     "name": "stderr",
     "output_type": "stream",
     "text": [
      "\n"
     ]
    }
   ],
   "source": [
    "# Downloading data\n",
    "data = {}\n",
    "for name, ticker in tickers.items():\n",
    "    print(f\"Downloading data for {name} ({ticker})...\")\n",
    "    data[name] = yf.download(ticker, start=start_date, end=end_date)\n",
    "    print(f\"Downloaded {len(data[name])} days of data for {name}.\")"
   ]
  },
  {
   "cell_type": "code",
   "execution_count": 4,
   "id": "e6879cc0-120d-496c-86b4-08acf66c9184",
   "metadata": {},
   "outputs": [
    {
     "name": "stdout",
     "output_type": "stream",
     "text": [
      "                NVIDIA  Taiwan Semiconductors  Invesco QQQ\n",
      "Date                                                      \n",
      "2020-01-02    5.972161              54.504330   209.638077\n",
      "2020-01-03    5.876570              52.706879   207.717773\n",
      "2020-01-06    5.901215              52.098648   209.056107\n",
      "2020-01-07    5.972660              52.942913   209.027054\n",
      "2020-01-08    5.983862              53.333256   210.598190\n",
      "...                ...                    ...          ...\n",
      "2025-03-07  112.679642             177.100006   491.790009\n",
      "2025-03-10  106.970161             170.649994   472.730011\n",
      "2025-03-11  108.750000             170.970001   471.600006\n",
      "2025-03-12  115.739998             177.169998   476.920013\n",
      "2025-03-13  115.580002             171.589996   468.339996\n",
      "\n",
      "[1306 rows x 3 columns]\n",
      "<class 'pandas.core.frame.DataFrame'>\n"
     ]
    }
   ],
   "source": [
    "# Extract closing prices for correlation analysis\n",
    "close_prices = pd.DataFrame()\n",
    "for name, ticker_data in data.items():\n",
    "    close_prices[name] = ticker_data['Close']\n",
    "\n",
    "print(close_prices)\n",
    "print(type(close_prices))"
   ]
  },
  {
   "cell_type": "code",
   "execution_count": null,
   "id": "1d91d0d9-4beb-435f-906b-cb3ce6e379a6",
   "metadata": {},
   "outputs": [],
   "source": [
    "# Calculate correlation matrix\n",
    "correlation = close_prices.corr()\n",
    "print(\"\\nPrice Correlation Matrix:\")\n",
    "print(correlation)\n",
    "\n",
    "# Visualize correlation\n",
    "plt.figure(figsize=(8, 6))\n",
    "sns.heatmap(correlation, annot=True, cmap='coolwarm', vmin=-1, vmax=1)\n",
    "plt.title('Closing Prices Correlation Matrix')\n",
    "plt.tight_layout()\n",
    "plt.show()"
   ]
  },
  {
   "cell_type": "code",
   "execution_count": 6,
   "id": "085c6f8e-5bb5-45c6-8029-39a20be6d84e",
   "metadata": {},
   "outputs": [
    {
     "name": "stdout",
     "output_type": "stream",
     "text": [
      "Price            Close        High         Low        Open     Volume\n",
      "Ticker            NVDA        NVDA        NVDA        NVDA       NVDA\n",
      "Date                                                                 \n",
      "2020-01-02    5.972161    5.972161    5.892752    5.943285  237536000\n",
      "2020-01-03    5.876570    5.920383    5.827530    5.852424  205384000\n",
      "2020-01-06    5.901215    5.906442    5.757083    5.783220  262636000\n",
      "2020-01-07    5.972660    6.018463    5.884537    5.929594  314856000\n",
      "2020-01-08    5.983862    6.025185    5.928350    5.968428  277108000\n",
      "...                ...         ...         ...         ...        ...\n",
      "2025-03-07  112.679642  113.469570  107.550108  111.239772  341755500\n",
      "2025-03-10  106.970161  111.839709  105.450297  109.889891  366487400\n",
      "2025-03-11  108.750000  112.229676  104.760361  106.980159  354865700\n",
      "2025-03-12  115.739998  116.760002  112.879997  114.120003  323857500\n",
      "2025-03-13  115.580002  117.760002  113.790001  117.029999  299033100\n",
      "\n",
      "[1306 rows x 5 columns]\n",
      "Price            Close        High         Low        Open    Volume\n",
      "Ticker             TSM         TSM         TSM         TSM       TSM\n",
      "Date                                                                \n",
      "2020-01-02   54.504330   54.576952   54.104895   54.104895   8432600\n",
      "2020-01-03   52.706879   53.542053   52.688722   53.532977  10546400\n",
      "2020-01-06   52.098648   52.370987   51.862622   52.289285   8897200\n",
      "2020-01-07   52.942913   53.197096   51.508590   52.153128   7444300\n",
      "2020-01-08   53.333256   53.542049   52.752264   52.824886   5381500\n",
      "...                ...         ...         ...         ...       ...\n",
      "2025-03-07  177.100006  178.470001  171.020004  175.789993  21012700\n",
      "2025-03-10  170.649994  174.889999  167.910004  172.470001  18265100\n",
      "2025-03-11  170.970001  173.330002  168.100006  170.649994  16561100\n",
      "2025-03-12  177.169998  178.130005  174.759995  175.600006  14737600\n",
      "2025-03-13  171.589996  173.889999  170.500000  173.889999  14381600\n",
      "\n",
      "[1306 rows x 5 columns]\n",
      "Price            Close        High         Low        Open    Volume\n",
      "Ticker             QQQ         QQQ         QQQ         QQQ       QQQ\n",
      "Date                                                                \n",
      "2020-01-02  209.638077  209.638077  207.523844  207.931170  30969400\n",
      "2020-01-03  207.717773  208.968860  206.844934  206.864335  27518900\n",
      "2020-01-06  209.056107  209.085200  205.836286  206.088435  21655300\n",
      "2020-01-07  209.027054  209.618650  208.367578  209.133736  22139300\n",
      "2020-01-08  210.598190  211.558326  208.668242  208.997980  26397300\n",
      "...                ...         ...         ...         ...       ...\n",
      "2025-03-07  491.790009  493.279999  480.529999  487.160004  54714700\n",
      "2025-03-10  472.730011  483.970001  468.660004  483.450012  76668000\n",
      "2025-03-11  471.600006  478.809998  467.010010  472.350006  68760800\n",
      "2025-03-12  476.920013  481.059998  471.790009  479.160004  46971100\n",
      "2025-03-13  468.339996  476.279999  466.429993  476.250000  46563300\n",
      "\n",
      "[1306 rows x 5 columns]\n"
     ]
    }
   ],
   "source": [
    "for name, ticker_data in data.items():\n",
    "    print (data[name])"
   ]
  },
  {
   "cell_type": "code",
   "execution_count": 7,
   "id": "a4988edb-8755-48fb-b742-f971c57f12bc",
   "metadata": {},
   "outputs": [],
   "source": [
    "# Function calculates six technical indicators used by the CEFLANN model\n",
    "def calculate_technical_indicators(df):\n",
    "\n",
    "    data = df.copy()\n",
    "\n",
    "    # Convert all dataframe columns to series for calculations\n",
    "    close_series = data['Close'].squeeze()\n",
    "    low_series = data['Low'].squeeze()\n",
    "    high_series = data['High'].squeeze()\n",
    "    \n",
    "    # 1: Simple Moving Average (MA15)\n",
    "    data['MA15'] = close_series.rolling(window=15).mean()\n",
    "    \n",
    "    # 2: MACD (12, 26)\n",
    "    data['EMA12'] = close_series.ewm(span=12, adjust=False).mean()\n",
    "    data['EMA26'] = close_series.ewm(span=26, adjust=False).mean()\n",
    "    data['MACD26'] = data['EMA12'] - data['EMA26']\n",
    "    \n",
    "    # 3: Stochastic Oscillator K14\n",
    "    n = 14\n",
    "    data['L14'] = low_series.rolling(window=n).min()\n",
    "    data['H14'] = high_series.rolling(window=n).max()\n",
    "    data['K14'] = 100 * ((close_series - data['L14']) / (data['H14'] - data['L14']))\n",
    "    \n",
    "    # 4: Stochastic Oscillator D3\n",
    "    data['D3'] = data['K14'].rolling(window=3).mean()\n",
    "    \n",
    "    # 5: Relative Strength Index (14)\n",
    "    delta = close_series.diff()\n",
    "    gain = (delta.where(delta > 0, 0)).rolling(window=14).mean()\n",
    "    loss = (-delta.where(delta < 0, 0)).rolling(window=14).mean()\n",
    "    rs = gain / loss\n",
    "    data['RSI14'] = 100 - (100 / (1 + rs))\n",
    "    \n",
    "    # 6: Larry Williams R% (WR14)\n",
    "    data['WR14'] = -100 * ((data['H14'] - close_series) / (high_series - low_series))\n",
    "    \n",
    "    # Clean up columns\n",
    "    data = data.drop(['L14', 'H14', 'EMA12', 'EMA26'], axis=1)\n",
    "    \n",
    "    # Columns added: MA15, MACD26, K14, D3, RSI14, WR14\n",
    "    return data"
   ]
  },
  {
   "cell_type": "code",
   "execution_count": 8,
   "id": "dc0ef8d3-92ea-4d5e-b319-650421b14754",
   "metadata": {},
   "outputs": [],
   "source": [
    "# Calculate technical indicators for all tickers\n",
    "tech_data = data.copy()\n",
    "for name in tickers.keys():\n",
    "    tech_data[name] = calculate_technical_indicators(tech_data[name])\n",
    "    "
   ]
  },
  {
   "cell_type": "code",
   "execution_count": 9,
   "id": "7c6c42f2-e455-449c-a48c-0b1f34de1d43",
   "metadata": {},
   "outputs": [
    {
     "name": "stdout",
     "output_type": "stream",
     "text": [
      "{'NVIDIA': Price             MA15    MACD26        K14         D3      RSI14        WR14\n",
      "Ticker                                                                       \n",
      "Date                                                                         \n",
      "2020-01-02         NaN  0.000000        NaN        NaN        NaN         NaN\n",
      "2020-01-03         NaN -0.007625        NaN        NaN        NaN         NaN\n",
      "2020-01-06         NaN -0.011547        NaN        NaN        NaN         NaN\n",
      "2020-01-07         NaN -0.008789        NaN        NaN        NaN         NaN\n",
      "2020-01-08         NaN -0.005634        NaN        NaN        NaN         NaN\n",
      "...                ...       ...        ...        ...        ...         ...\n",
      "2025-03-07  126.381043 -5.053963  14.297671  12.416652  27.671568 -519.425150\n",
      "2025-03-10  124.256572 -5.779603   4.222232   6.633344  24.568575 -539.593344\n",
      "2025-03-11  122.214094 -6.140279  10.874909   9.798271  26.687085 -437.751040\n",
      "2025-03-12  120.648947 -5.795278  29.928161  15.008434  32.956103 -662.550787\n",
      "2025-03-13  119.014472 -5.471698  31.994780  24.265950  35.714912 -579.275699\n",
      "\n",
      "[1306 rows x 6 columns], 'Taiwan Semiconductors': Price             MA15    MACD26        K14         D3      RSI14        WR14\n",
      "Ticker                                                                       \n",
      "Date                                                                         \n",
      "2020-01-02         NaN  0.000000        NaN        NaN        NaN         NaN\n",
      "2020-01-03         NaN -0.143386        NaN        NaN        NaN         NaN\n",
      "2020-01-06         NaN -0.302612        NaN        NaN        NaN         NaN\n",
      "2020-01-07         NaN -0.356564        NaN        NaN        NaN         NaN\n",
      "2020-01-08         NaN -0.363632        NaN        NaN        NaN         NaN\n",
      "...                ...       ...        ...        ...        ...         ...\n",
      "2025-03-07  188.892667 -7.490898  17.456220  22.864404  28.532526 -385.906198\n",
      "2025-03-10  186.676000 -8.071369   7.878063  12.973849  26.303346 -459.026191\n",
      "2025-03-11  184.558000 -8.408645   8.798153  11.377479  27.370174 -606.501475\n",
      "2025-03-12  182.972666 -8.082481  26.624482  14.433566  33.985191 -757.267825\n",
      "2025-03-13  181.071999 -8.179960  11.917079  15.779905  32.306464 -802.359936\n",
      "\n",
      "[1306 rows x 6 columns], 'Invesco QQQ': Price             MA15     MACD26        K14         D3      RSI14        WR14\n",
      "Ticker                                                                        \n",
      "Date                                                                          \n",
      "2020-01-02         NaN   0.000000        NaN        NaN        NaN         NaN\n",
      "2020-01-03         NaN  -0.153187        NaN        NaN        NaN         NaN\n",
      "2020-01-06         NaN  -0.164697        NaN        NaN        NaN         NaN\n",
      "2020-01-07         NaN  -0.174156        NaN        NaN        NaN         NaN\n",
      "2020-01-08         NaN  -0.054250        NaN        NaN        NaN         NaN\n",
      "...                ...        ...        ...        ...        ...         ...\n",
      "2025-03-07  514.076003  -8.191145  18.679512  16.410298  23.502528 -384.470502\n",
      "2025-03-10  509.714669 -10.174250   5.641036   9.327627  18.363121 -444.676665\n",
      "2025-03-11  505.196670 -11.702162   6.367039  10.229196  18.052699 -572.034231\n",
      "2025-03-12  501.023336 -12.341498  13.881498   8.629858  22.418393 -663.215576\n",
      "2025-03-13  496.430670 -13.386204   3.049175   7.765904  22.958053 -616.547953\n",
      "\n",
      "[1306 rows x 6 columns]}\n"
     ]
    }
   ],
   "source": [
    "selected_data = {ticker: df[['MA15', 'MACD26', 'K14', 'D3', 'RSI14', 'WR14']] \n",
    "                 for ticker, df in tech_data.items()}\n",
    "print(selected_data)"
   ]
  },
  {
   "cell_type": "code",
   "execution_count": 10,
   "id": "41a21181-74fa-4486-a9ad-491ebbf72826",
   "metadata": {},
   "outputs": [],
   "source": [
    "# Normalize indicators using Min-Max normalization\n",
    "# The function returns a dataframe of normalized indicator values, along with the statistical distribution of each indicator.\n",
    "def normalize_indicators(df):\n",
    "\n",
    "    indicators = ['MA15', 'MACD26', 'K14', 'D3', 'RSI14', 'WR14']\n",
    "    \n",
    "    normalized_df = df[indicators].copy()\n",
    "    stats = {}\n",
    "    for indicator in indicators:\n",
    "        stats[indicator] = {\n",
    "            'min': df[indicator].min(),\n",
    "            'max': df[indicator].max(),\n",
    "            'mean': df[indicator].mean(),\n",
    "            'std': df[indicator].std()\n",
    "        }\n",
    "        \n",
    "       \n",
    "        normalized_df[indicator] = (df[indicator] - stats[indicator]['min']) / \\\n",
    "                                  (stats[indicator]['max'] - stats[indicator]['min'])\n",
    "    \n",
    "    \n",
    "    normalized_df['Close'] = df['Close']\n",
    "    \n",
    "    return normalized_df, stats"
   ]
  },
  {
   "cell_type": "code",
   "execution_count": 11,
   "id": "0343d051-d13f-4fc8-9d12-3e72c99c5ca0",
   "metadata": {},
   "outputs": [
    {
     "name": "stdout",
     "output_type": "stream",
     "text": [
      "Normalized technical indicators for NVIDIA\n",
      "Normalized technical indicators for Taiwan Semiconductors\n",
      "Normalized technical indicators for Invesco QQQ\n"
     ]
    }
   ],
   "source": [
    "# Normalize the technical indicators for all stocks\n",
    "normalized_data = {}\n",
    "indicator_stats = {}\n",
    "\n",
    "for name in tickers.keys():\n",
    "    normalized_data[name], indicator_stats[name] = normalize_indicators(tech_data[name])\n",
    "    print(f\"Normalized technical indicators for {name}\")\n",
    "    #dx = tech_data[name]\n",
    "    #print(dx['MA15', 'MACD26', 'K14', 'D3', 'RSI14', 'WR14'])"
   ]
  },
  {
   "cell_type": "code",
   "execution_count": 12,
   "id": "2ab0d58d-db9f-4445-8578-9fa94e756810",
   "metadata": {},
   "outputs": [
    {
     "data": {
      "text/html": [
       "<div>\n",
       "<style scoped>\n",
       "    .dataframe tbody tr th:only-of-type {\n",
       "        vertical-align: middle;\n",
       "    }\n",
       "\n",
       "    .dataframe tbody tr th {\n",
       "        vertical-align: top;\n",
       "    }\n",
       "\n",
       "    .dataframe thead th {\n",
       "        text-align: right;\n",
       "    }\n",
       "</style>\n",
       "<table border=\"1\" class=\"dataframe\">\n",
       "  <thead>\n",
       "    <tr style=\"text-align: right;\">\n",
       "      <th></th>\n",
       "      <th>min</th>\n",
       "      <th>max</th>\n",
       "      <th>mean</th>\n",
       "      <th>std</th>\n",
       "    </tr>\n",
       "  </thead>\n",
       "  <tbody>\n",
       "    <tr>\n",
       "      <th>MA15</th>\n",
       "      <td>5.75</td>\n",
       "      <td>144.53</td>\n",
       "      <td>41.58</td>\n",
       "      <td>40.97</td>\n",
       "    </tr>\n",
       "    <tr>\n",
       "      <th>MACD26</th>\n",
       "      <td>-6.14</td>\n",
       "      <td>9.77</td>\n",
       "      <td>0.65</td>\n",
       "      <td>1.86</td>\n",
       "    </tr>\n",
       "    <tr>\n",
       "      <th>K14</th>\n",
       "      <td>0.19</td>\n",
       "      <td>100.00</td>\n",
       "      <td>58.99</td>\n",
       "      <td>30.62</td>\n",
       "    </tr>\n",
       "    <tr>\n",
       "      <th>D3</th>\n",
       "      <td>0.95</td>\n",
       "      <td>99.20</td>\n",
       "      <td>58.99</td>\n",
       "      <td>28.49</td>\n",
       "    </tr>\n",
       "    <tr>\n",
       "      <th>RSI14</th>\n",
       "      <td>8.19</td>\n",
       "      <td>96.99</td>\n",
       "      <td>55.94</td>\n",
       "      <td>16.76</td>\n",
       "    </tr>\n",
       "    <tr>\n",
       "      <th>WR14</th>\n",
       "      <td>-1276.84</td>\n",
       "      <td>-0.00</td>\n",
       "      <td>-197.97</td>\n",
       "      <td>178.24</td>\n",
       "    </tr>\n",
       "  </tbody>\n",
       "</table>\n",
       "</div>"
      ],
      "text/plain": [
       "            min     max    mean     std\n",
       "MA15       5.75  144.53   41.58   40.97\n",
       "MACD26    -6.14    9.77    0.65    1.86\n",
       "K14        0.19  100.00   58.99   30.62\n",
       "D3         0.95   99.20   58.99   28.49\n",
       "RSI14      8.19   96.99   55.94   16.76\n",
       "WR14   -1276.84   -0.00 -197.97  178.24"
      ]
     },
     "execution_count": 12,
     "metadata": {},
     "output_type": "execute_result"
    }
   ],
   "source": [
    "# Display summary statistics for NVDA indicators\n",
    "indicator_summary = pd.DataFrame(indicator_stats['NVIDIA']).T.round(2)\n",
    "indicator_summary\n",
    "#normalized_data['NVIDIA'].tail()"
   ]
  },
  {
   "cell_type": "code",
   "execution_count": 13,
   "id": "6ed8d592-4529-4bf3-b772-61dc561f31f1",
   "metadata": {},
   "outputs": [
    {
     "name": "stdout",
     "output_type": "stream",
     "text": [
      "<class 'pandas.core.frame.DataFrame'>\n",
      "DatetimeIndex: 1306 entries, 2020-01-02 to 2025-03-13\n",
      "Data columns (total 11 columns):\n",
      " #   Column          Non-Null Count  Dtype  \n",
      "---  ------          --------------  -----  \n",
      " 0   (Close, NVDA)   1306 non-null   float64\n",
      " 1   (High, NVDA)    1306 non-null   float64\n",
      " 2   (Low, NVDA)     1306 non-null   float64\n",
      " 3   (Open, NVDA)    1306 non-null   float64\n",
      " 4   (Volume, NVDA)  1306 non-null   int64  \n",
      " 5   (MA15, )        1292 non-null   float64\n",
      " 6   (MACD26, )      1306 non-null   float64\n",
      " 7   (K14, )         1293 non-null   float64\n",
      " 8   (D3, )          1291 non-null   float64\n",
      " 9   (RSI14, )       1293 non-null   float64\n",
      " 10  (WR14, )        1293 non-null   float64\n",
      "dtypes: float64(10), int64(1)\n",
      "memory usage: 122.4 KB\n"
     ]
    }
   ],
   "source": [
    "nvda_df = tech_data['NVIDIA'].copy()\n",
    "nvda_df.info()"
   ]
  },
  {
   "cell_type": "markdown",
   "id": "18978795-c358-4875-a960-eeea8537369c",
   "metadata": {},
   "source": [
    "Issues: Alignment error between the columns 'MA15' and 'Close'.\n",
    "Solution: Align columns first."
   ]
  },
  {
   "cell_type": "code",
   "execution_count": 14,
   "id": "39e20559-a753-42d4-b8f9-3ae5827eebd9",
   "metadata": {},
   "outputs": [
    {
     "name": "stdout",
     "output_type": "stream",
     "text": [
      "DataFrame type: <class 'pandas.core.frame.DataFrame'>\n",
      "DataFrame shape: (1306, 11)\n",
      "DataFrame columns: MultiIndex([( 'Close', 'NVDA'),\n",
      "            (  'High', 'NVDA'),\n",
      "            (   'Low', 'NVDA'),\n",
      "            (  'Open', 'NVDA'),\n",
      "            ('Volume', 'NVDA'),\n",
      "            (  'MA15',     ''),\n",
      "            ('MACD26',     ''),\n",
      "            (   'K14',     ''),\n",
      "            (    'D3',     ''),\n",
      "            ( 'RSI14',     ''),\n",
      "            (  'WR14',     '')],\n",
      "           names=['Price', 'Ticker'])\n",
      "Column types: Price   Ticker\n",
      "Close   NVDA      float64\n",
      "High    NVDA      float64\n",
      "Low     NVDA      float64\n",
      "Open    NVDA      float64\n",
      "Volume  NVDA        int64\n",
      "MA15              float64\n",
      "MACD26            float64\n",
      "K14               float64\n",
      "D3                float64\n",
      "RSI14             float64\n",
      "WR14              float64\n",
      "dtype: object\n",
      "Price           MA15    MACD26        K14         D3      RSI14\n",
      "Ticker                                                         \n",
      "Date                                                           \n",
      "2020-01-02       NaN  0.000000        NaN        NaN        NaN\n",
      "2020-01-03       NaN -0.007625        NaN        NaN        NaN\n",
      "2020-01-06       NaN -0.011547        NaN        NaN        NaN\n",
      "2020-01-07       NaN -0.008789        NaN        NaN        NaN\n",
      "2020-01-08       NaN -0.005634        NaN        NaN        NaN\n",
      "2020-01-09       NaN  0.002145        NaN        NaN        NaN\n",
      "2020-01-10       NaN  0.010796        NaN        NaN        NaN\n",
      "2020-01-13       NaN  0.032662        NaN        NaN        NaN\n",
      "2020-01-14       NaN  0.040089        NaN        NaN        NaN\n",
      "2020-01-15       NaN  0.042054        NaN        NaN        NaN\n",
      "2020-01-16       NaN  0.049788        NaN        NaN        NaN\n",
      "2020-01-17       NaN  0.055974        NaN        NaN        NaN\n",
      "2020-01-21       NaN  0.057522        NaN        NaN        NaN\n",
      "2020-01-22       NaN  0.062388  84.408636        NaN  65.278631\n",
      "2020-01-23  6.098271  0.070951  96.729320        NaN  67.921396\n",
      "2020-01-24  6.115812  0.072125  68.048177  83.062045  70.781718\n",
      "2020-01-27  6.122666  0.051809  29.226266  64.667921  53.571452\n",
      "2020-01-28  6.140772  0.050731  57.719040  51.664494  58.227563\n",
      "2020-01-29  6.150082  0.044483  48.808397  45.251234  55.074773\n",
      "2020-01-30  6.159094  0.039617  49.798187  52.108541  52.878112\n",
      "2020-01-31  6.148157  0.016726  15.401651  38.002745  43.023843\n",
      "2020-02-03  6.141536  0.006346  29.703003  31.634280  38.965686\n",
      "2020-02-04  6.133487  0.011644  54.638825  33.247826  49.863341\n",
      "2020-02-05  6.139262  0.022871  67.950176  50.764002  54.567865\n",
      "2020-02-06  6.153667  0.038337  80.748123  67.779042  54.671612\n",
      "2020-02-07  6.158081  0.044735  70.993654  73.230651  51.949327\n",
      "2020-02-10  6.180801  0.071836  99.902556  83.881444  60.845766\n",
      "2020-02-11  6.213909  0.102021  88.552276  86.482829  62.340402\n",
      "2020-02-12  6.251133  0.133741  99.359109  95.937980  63.308126\n",
      "2020-02-13  6.280872  0.153574  93.454532  93.788639  63.843413\n",
      "2020-02-14  6.346109  0.205112  91.398215  94.737285  80.219408\n",
      "\n",
      "Close column type: <class 'pandas.core.frame.DataFrame'>\n",
      "MA15 column type: <class 'pandas.core.series.Series'>\n"
     ]
    }
   ],
   "source": [
    "# Some basic information about the DataFrame\n",
    "print(\"DataFrame type:\", type(nvda_df))\n",
    "print(\"DataFrame shape:\", nvda_df.shape)\n",
    "print(\"DataFrame columns:\", nvda_df.columns)\n",
    "print(\"Column types:\", nvda_df.dtypes)\n",
    "\n",
    "# Inspect the following rows\n",
    "print(nvda_df.iloc[0:31, 5:10])\n",
    "\n",
    "print(\"\\nClose column type:\", type(nvda_df['Close']))\n",
    "print(\"MA15 column type:\", type(nvda_df['MA15']))"
   ]
  },
  {
   "cell_type": "code",
   "execution_count": null,
   "id": "bc775a94-767f-4381-bca6-5e938b7be4b3",
   "metadata": {},
   "outputs": [],
   "source": [
    "# Uses the MA15 to determine uptrend and downtrend sections.\n",
    "# Extract data\n",
    "nvda_df = tech_data['NVIDIA'].copy()\n",
    "close_prices = nvda_df[('Close', 'NVDA')]\n",
    "ma15_values = nvda_df[('MA15', '')]\n",
    "\n",
    "aligned_rows = close_prices.notna() & ma15_values.notna() #Boolean table\n",
    "\n",
    "# Aligned mask\n",
    "uptrend_mask = (close_prices > ma15_values) & aligned_rows\n",
    "downtrend_mask = (close_prices < ma15_values) & aligned_rows\n",
    "\n",
    "# For data structures debugging\n",
    "#print(\"\\nClose column type:\", type(close_prices))\n",
    "#print(\"MA15 column type:\", type(ma15_values))\n",
    "#print(\"Uptrend:\", uptrend_mask.iloc[1:30])\n",
    "#print(\"Downtrend:\", downtrend_mask.iloc[1:30])\n",
    "\n",
    "uptrend = nvda_df.loc[uptrend_mask]\n",
    "downtrend = nvda_df.loc[downtrend_mask]\n",
    "\n",
    "# Plot results\n",
    "plt.figure(figsize=(15, 10))\n",
    "\n",
    "# Close price and MA15\n",
    "plt.plot(nvda_df.index, close_prices, label='Close Price', color='blue')\n",
    "plt.plot(nvda_df.index, ma15_values, label='MA15', color='red', linestyle='--')\n",
    "\n",
    "# Uptrend and downtrend periods\n",
    "plt.scatter(uptrend.index, uptrend[('Close', 'NVDA')], color='green', alpha=0.5, s=15, label='Uptrend')\n",
    "plt.scatter(downtrend.index, downtrend[('Close', 'NVDA')], color='red', alpha=0.5, s=15, label='Downtrend')\n",
    "\n",
    "plt.legend()\n",
    "plt.title('NVIDIA Trend Analysis (2020-2025)', fontsize=16)\n",
    "plt.xlabel('Date', fontsize=12)\n",
    "plt.ylabel('Price', fontsize=12)\n",
    "plt.grid(True, alpha=0.3)\n",
    "plt.tight_layout()\n",
    "plt.show()"
   ]
  },
  {
   "cell_type": "code",
   "execution_count": 16,
   "id": "8548a3ac-e01b-4939-8169-6e1bd07cb7b9",
   "metadata": {},
   "outputs": [],
   "source": [
    "# Restructured data function\n",
    "def restructure_dataframes(data):\n",
    "    restructured_data = {}\n",
    "    \n",
    "    for name, df in data.items():\n",
    "\n",
    "        new_df = pd.DataFrame()\n",
    "        \n",
    "        # First pass - create technical indicator columns without ticker\n",
    "        for col in df.columns:\n",
    "            if isinstance(col, tuple):\n",
    "                if col[0] in ['MA15', 'MACD26', 'K14', 'D3', 'RSI14', 'WR14']:\n",
    "                    # Technical indicators get simple names\n",
    "                    new_col_name = col[0]\n",
    "                    new_df[new_col_name] = df[col]\n",
    "                elif len(col) > 1 and col[1]:\n",
    "                    # Price data gets ticker-specific names\n",
    "                    new_col_name = f\"{col[0]}_{col[1]}\"\n",
    "                    new_df[new_col_name] = df[col]\n",
    "        \n",
    "        # Create simple price columns for the current ticker only\n",
    "        ticker_code = tickers[name]\n",
    "        new_df['Close'] = new_df[f'Close_{ticker_code}']\n",
    "        new_df['High'] = new_df[f'High_{ticker_code}']\n",
    "        new_df['Low'] = new_df[f'Low_{ticker_code}']\n",
    "        new_df['Open'] = new_df[f'Open_{ticker_code}']\n",
    "        new_df['Volume'] = new_df[f'Volume_{ticker_code}']\n",
    "        \n",
    "        new_df.index = df.index\n",
    "        restructured_data[name] = new_df\n",
    "    \n",
    "    return restructured_data\n",
    "\n",
    "# Apply the restructuring\n",
    "df_new = tech_data.copy()\n",
    "new_tech_data = restructure_dataframes(df_new)"
   ]
  },
  {
   "cell_type": "code",
   "execution_count": 17,
   "id": "65489a2a-ffc9-43db-a75c-2197eff9ea34",
   "metadata": {},
   "outputs": [
    {
     "name": "stdout",
     "output_type": "stream",
     "text": [
      "<class 'pandas.core.frame.DataFrame'>\n",
      "DatetimeIndex: 1306 entries, 2020-01-02 to 2025-03-13\n",
      "Data columns (total 16 columns):\n",
      " #   Column       Non-Null Count  Dtype  \n",
      "---  ------       --------------  -----  \n",
      " 0   Close_NVDA   1306 non-null   float64\n",
      " 1   High_NVDA    1306 non-null   float64\n",
      " 2   Low_NVDA     1306 non-null   float64\n",
      " 3   Open_NVDA    1306 non-null   float64\n",
      " 4   Volume_NVDA  1306 non-null   int64  \n",
      " 5   MA15         1292 non-null   float64\n",
      " 6   MACD26       1306 non-null   float64\n",
      " 7   K14          1293 non-null   float64\n",
      " 8   D3           1291 non-null   float64\n",
      " 9   RSI14        1293 non-null   float64\n",
      " 10  WR14         1293 non-null   float64\n",
      " 11  Close        1306 non-null   float64\n",
      " 12  High         1306 non-null   float64\n",
      " 13  Low          1306 non-null   float64\n",
      " 14  Open         1306 non-null   float64\n",
      " 15  Volume       1306 non-null   int64  \n",
      "dtypes: float64(14), int64(2)\n",
      "memory usage: 173.5 KB\n",
      "Dataframe info for NVIDIA: None\n",
      "<class 'pandas.core.frame.DataFrame'>\n",
      "DatetimeIndex: 1306 entries, 2020-01-02 to 2025-03-13\n",
      "Data columns (total 16 columns):\n",
      " #   Column      Non-Null Count  Dtype  \n",
      "---  ------      --------------  -----  \n",
      " 0   Close_TSM   1306 non-null   float64\n",
      " 1   High_TSM    1306 non-null   float64\n",
      " 2   Low_TSM     1306 non-null   float64\n",
      " 3   Open_TSM    1306 non-null   float64\n",
      " 4   Volume_TSM  1306 non-null   int64  \n",
      " 5   MA15        1292 non-null   float64\n",
      " 6   MACD26      1306 non-null   float64\n",
      " 7   K14         1293 non-null   float64\n",
      " 8   D3          1291 non-null   float64\n",
      " 9   RSI14       1293 non-null   float64\n",
      " 10  WR14        1293 non-null   float64\n",
      " 11  Close       1306 non-null   float64\n",
      " 12  High        1306 non-null   float64\n",
      " 13  Low         1306 non-null   float64\n",
      " 14  Open        1306 non-null   float64\n",
      " 15  Volume      1306 non-null   int64  \n",
      "dtypes: float64(14), int64(2)\n",
      "memory usage: 173.5 KB\n",
      "Dataframe info for Taiwan Semiconductors: None\n",
      "<class 'pandas.core.frame.DataFrame'>\n",
      "DatetimeIndex: 1306 entries, 2020-01-02 to 2025-03-13\n",
      "Data columns (total 16 columns):\n",
      " #   Column      Non-Null Count  Dtype  \n",
      "---  ------      --------------  -----  \n",
      " 0   Close_QQQ   1306 non-null   float64\n",
      " 1   High_QQQ    1306 non-null   float64\n",
      " 2   Low_QQQ     1306 non-null   float64\n",
      " 3   Open_QQQ    1306 non-null   float64\n",
      " 4   Volume_QQQ  1306 non-null   int64  \n",
      " 5   MA15        1292 non-null   float64\n",
      " 6   MACD26      1306 non-null   float64\n",
      " 7   K14         1293 non-null   float64\n",
      " 8   D3          1291 non-null   float64\n",
      " 9   RSI14       1293 non-null   float64\n",
      " 10  WR14        1293 non-null   float64\n",
      " 11  Close       1306 non-null   float64\n",
      " 12  High        1306 non-null   float64\n",
      " 13  Low         1306 non-null   float64\n",
      " 14  Open        1306 non-null   float64\n",
      " 15  Volume      1306 non-null   int64  \n",
      "dtypes: float64(14), int64(2)\n",
      "memory usage: 173.5 KB\n",
      "Dataframe info for Invesco QQQ: None\n"
     ]
    }
   ],
   "source": [
    "for name in tickers.keys():\n",
    "    print(f\"Dataframe info for {name}:\", new_tech_data[name].info())"
   ]
  },
  {
   "cell_type": "code",
   "execution_count": 18,
   "id": "b18ce2b0-ec39-437c-acd5-f2e23b03148b",
   "metadata": {},
   "outputs": [],
   "source": [
    "# This function prepares data for CEFLANN model training\n",
    "def prepare_data(normalized_df, name, window_size=15):\n",
    "\n",
    "    df = normalized_df.copy()\n",
    "    \n",
    "    # Original dataframe with restructured columns\n",
    "    original_df = new_tech_data[name]\n",
    "    \n",
    "    # Adds the trend column (1 for uptrend, 0 for downtrend)\n",
    "    df['trend'] = 0\n",
    "    \n",
    "    # Creates mask for valid data rows (both Close and MA15 are not NaN)\n",
    "    valid_mask = original_df['Close'].notna() & original_df['MA15'].notna()\n",
    "    \n",
    "    ma_rising = original_df['MA15'].diff(5) > 0\n",
    "    close_above_ma = original_df['Close'] > original_df['MA15']\n",
    "    df.loc[valid_mask & ma_rising & close_above_ma, 'trend'] = 1\n",
    "    \n",
    "    # Downtrend: Close < MA15 and MA15 falling for 5 days\n",
    "    ma_falling = original_df['MA15'].diff(5) < 0\n",
    "    close_below_ma = original_df['Close'] < original_df['MA15']\n",
    "    # trend=0 is already the default value\n",
    "    \n",
    "    # Generate trading signals in range 0-1 based on trend\n",
    "    df['trading_signal'] = 0.5  # default for no clear trend\n",
    "    \n",
    "    for i in range(len(df) - 2):\n",
    "        if i+3 > len(original_df):\n",
    "            continue\n",
    "            \n",
    "        # Get prices for next 3 days\n",
    "        prices = original_df['Close'].iloc[i:i+3].values\n",
    "        \n",
    "        if len(prices) < 3 or max(prices) <= min(prices):\n",
    "            continue\n",
    "            \n",
    "        min_cp = min(prices)\n",
    "        max_cp = max(prices)\n",
    "        current_cp = original_df['Close'].iloc[i]\n",
    "        \n",
    "        # Calculate trading signal\n",
    "        if df['trend'].iloc[i] == 1:  # Uptrend\n",
    "            df.iloc[i, df.columns.get_loc('trading_signal')] = ((current_cp - min_cp) / (max_cp - min_cp)) * 0.5 + 0.5\n",
    "        else:  # Downtrend\n",
    "            df.iloc[i, df.columns.get_loc('trading_signal')] = ((current_cp - min_cp) / (max_cp - min_cp)) * 0.5\n",
    "    \n",
    "    # Drop NaN values\n",
    "    df.dropna(inplace=True)\n",
    "    \n",
    "    # Features (X) and target (y) - now with simple column names\n",
    "    X = df[['MA15', 'MACD26', 'K14', 'D3', 'RSI14', 'WR14']].values\n",
    "    y = df['trading_signal'].values\n",
    "    \n",
    "    return df, X, y"
   ]
  },
  {
   "cell_type": "code",
   "execution_count": 19,
   "id": "0d86ddc7-0998-453f-8075-c987eb1a895d",
   "metadata": {},
   "outputs": [
    {
     "name": "stdout",
     "output_type": "stream",
     "text": [
      "Prepared 1291 samples for CEFLANN model training for NVIDIA\n",
      "Prepared 1291 samples for CEFLANN model training for Taiwan Semiconductors\n",
      "Prepared 1291 samples for CEFLANN model training for Invesco QQQ\n"
     ]
    }
   ],
   "source": [
    "# Preparing the data for CEFLANN model for all indices\n",
    "ceflann_data = {}\n",
    "features = {}\n",
    "targets = {}\n",
    "\n",
    "for name in tickers.keys():\n",
    "    \n",
    "    ceflann_data[name], features[name], targets[name] = prepare_data(normalized_data[name], name)\n",
    "    print(f\"Prepared {len(features[name])} samples for CEFLANN model training for {name}\")"
   ]
  },
  {
   "cell_type": "code",
   "execution_count": 20,
   "id": "571931f4-f82e-4d56-b09b-2e2ccc9f2945",
   "metadata": {},
   "outputs": [
    {
     "name": "stdout",
     "output_type": "stream",
     "text": [
      "<class 'pandas.core.frame.DataFrame'>\n",
      "DatetimeIndex: 1291 entries, 2020-01-24 to 2025-03-13\n",
      "Data columns (total 9 columns):\n",
      " #   Column              Non-Null Count  Dtype  \n",
      "---  ------              --------------  -----  \n",
      " 0   (MA15, )            1291 non-null   float64\n",
      " 1   (MACD26, )          1291 non-null   float64\n",
      " 2   (K14, )             1291 non-null   float64\n",
      " 3   (D3, )              1291 non-null   float64\n",
      " 4   (RSI14, )           1291 non-null   float64\n",
      " 5   (WR14, )            1291 non-null   float64\n",
      " 6   (Close, )           1291 non-null   float64\n",
      " 7   (trend, )           1291 non-null   int64  \n",
      " 8   (trading_signal, )  1291 non-null   float64\n",
      "dtypes: float64(8), int64(1)\n",
      "memory usage: 100.9 KB\n",
      "None\n"
     ]
    }
   ],
   "source": [
    "# Display a sample of the prepared data for NVIDIA\n",
    "#for name in tickers.keys():\n",
    "print(ceflann_data['NVIDIA'].info())"
   ]
  },
  {
   "cell_type": "code",
   "execution_count": 21,
   "id": "dfdd7421-59ed-4eda-b07a-ebabb1aa2a0d",
   "metadata": {},
   "outputs": [
    {
     "name": "stdout",
     "output_type": "stream",
     "text": [
      "Split NVIDIA data into 1032 training samples and 259 testing samples\n",
      "Split Taiwan Semiconductors data into 1032 training samples and 259 testing samples\n",
      "Split Invesco QQQ data into 1032 training samples and 259 testing samples\n"
     ]
    }
   ],
   "source": [
    "# Split the data into training and testing sets\n",
    "def split_data(X, y, train_ratio=0.8):\n",
    "    train_size = int(len(X) * train_ratio)\n",
    "    \n",
    "    X_train = X[:train_size]\n",
    "    y_train = y[:train_size]\n",
    "    X_test = X[train_size:]\n",
    "    y_test = y[train_size:]\n",
    "    \n",
    "    return X_train, y_train, X_test, y_test\n",
    "\n",
    "# Split the data for both indices\n",
    "train_test_data = {}\n",
    "\n",
    "for name in tickers.keys():\n",
    "    X_train, y_train, X_test, y_test = split_data(features[name], targets[name])\n",
    "    train_test_data[name] = {\n",
    "        'X_train': X_train,\n",
    "        'y_train': y_train,\n",
    "        'X_test': X_test,\n",
    "        'y_test': y_test\n",
    "    }\n",
    "    print(f\"Split {name} data into {len(X_train)} training samples and {len(X_test)} testing samples\")"
   ]
  },
  {
   "cell_type": "code",
   "execution_count": 26,
   "id": "42b79eed-d4e0-406a-9d65-4198611a4e9b",
   "metadata": {},
   "outputs": [
    {
     "name": "stdout",
     "output_type": "stream",
     "text": [
      "Dataframe, train, and test data has been exported.\n"
     ]
    }
   ],
   "source": [
    "# Export the dataframes to CSV\n",
    "new_tech_data['NVIDIA'].to_csv('nvidia_technical_data.csv')\n",
    "normalized_data['NVIDIA'].to_csv('nvidia_normalized_data.csv')\n",
    "\n",
    "# Export training and testing sets to npy\n",
    "np.save('nvidia_X_train.npy', train_test_data['NVIDIA']['X_train'])\n",
    "np.save('nvidia_y_train.npy', train_test_data['NVIDIA']['y_train'])\n",
    "np.save('nvidia_X_test.npy', train_test_data['NVIDIA']['X_test'])\n",
    "np.save('nvidia_y_test.npy', train_test_data['NVIDIA']['y_test'])\n",
    "with open('nvidia_info.txt', 'w') as f:\n",
    "    f.write(f\"{new_tech_data['NVIDIA'].index[-1]},{new_tech_data['NVIDIA']['Close'].iloc[-1]}\")\n",
    "\n",
    "print(\"Dataframe, train, and test data has been exported.\")"
   ]
  },
  {
   "cell_type": "code",
   "execution_count": 27,
   "id": "48eceb3c-2755-4ad1-ba0f-378cda3326ed",
   "metadata": {},
   "outputs": [
    {
     "name": "stdout",
     "output_type": "stream",
     "text": [
      "Dataset Summary for CEFLANN Model Implementation\n",
      "============================================================\n",
      "Time Period: 2020-01-01 to 2025-03-14\n",
      "Number of Trading Days: NVIDIA = 1306\n",
      "\n",
      "Technical Indicators Used:\n",
      "  - Simple Moving Average (MA15)\n",
      "  - Moving Average Convergence Divergence (MACD26)\n",
      "  - Stochastic Oscillator K14 and D3\n",
      "  - Relative Strength Index (RSI14)\n",
      "  - Larry Williams R% (WR14)\n",
      "\n",
      "Data Preprocessing:\n",
      "  - Calculated technical indicators\n",
      "  - Normalized indicators to range [0,1]\n",
      "  - Generated trading signals in range [0,1]\n",
      "  - Split data into training (80%) and testing (20%) sets\n",
      "\n",
      "The dataset is now ready for implementing the CEFLANN model with ELM learning\n"
     ]
    }
   ],
   "source": [
    "# Summary of the dataset preparation\n",
    "print(\"Dataset Summary for CEFLANN Model Implementation\")\n",
    "print(\"=\"*60)\n",
    "print(f\"Time Period: {start_date} to {end_date}\")\n",
    "print(f\"Number of Trading Days: NVIDIA = {len(data['NVIDIA'])}\")\n",
    "print(\"\\nTechnical Indicators Used:\")\n",
    "print(\"  - Simple Moving Average (MA15)\")\n",
    "print(\"  - Moving Average Convergence Divergence (MACD26)\")\n",
    "print(\"  - Stochastic Oscillator K14 and D3\")\n",
    "print(\"  - Relative Strength Index (RSI14)\")\n",
    "print(\"  - Larry Williams R% (WR14)\")\n",
    "print(\"\\nData Preprocessing:\")\n",
    "print(\"  - Calculated technical indicators\")\n",
    "print(\"  - Normalized indicators to range [0,1]\")\n",
    "print(\"  - Generated trading signals in range [0,1]\")\n",
    "print(\"  - Split data into training (80%) and testing (20%) sets\")\n",
    "print(\"\\nThe dataset is now ready for implementing the CEFLANN model with ELM learning\")"
   ]
  }
 ],
 "metadata": {
  "kernelspec": {
   "display_name": "Python 3 (Spyder)",
   "language": "python3",
   "name": "python3"
  },
  "language_info": {
   "codemirror_mode": {
    "name": "ipython",
    "version": 3
   },
   "file_extension": ".py",
   "mimetype": "text/x-python",
   "name": "python",
   "nbconvert_exporter": "python",
   "pygments_lexer": "ipython3",
   "version": "3.12.9"
  }
 },
 "nbformat": 4,
 "nbformat_minor": 5
}
